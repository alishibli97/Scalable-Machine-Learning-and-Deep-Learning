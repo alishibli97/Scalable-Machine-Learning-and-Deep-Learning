{
 "cells": [
  {
   "cell_type": "markdown",
   "metadata": {},
   "source": [
    "# Machine Learning With Spark ML\n",
    "In this lab assignment, you will complete a project by going through the following steps:\n",
    "1. Get the data.\n",
    "2. Discover the data to gain insights.\n",
    "3. Prepare the data for Machine Learning algorithms.\n",
    "4. Select a model and train it.\n",
    "5. Fine-tune your model.\n",
    "6. Present your solution.\n",
    "\n",
    "As a dataset, we use the California Housing Prices dataset from the StatLib repository. This dataset was based on data from the 1990 California census. The dataset has the following columns\n",
    "1. `longitude`: a measure of how far west a house is (a higher value is farther west)\n",
    "2. `latitude`: a measure of how far north a house is (a higher value is farther north)\n",
    "3. `housing_,median_age`: median age of a house within a block (a lower number is a newer building)\n",
    "4. `total_rooms`: total number of rooms within a block\n",
    "5. `total_bedrooms`: total number of bedrooms within a block\n",
    "6. `population`: total number of people residing within a block\n",
    "7. `households`: total number of households, a group of people residing within a home unit, for a block\n",
    "8. `median_income`: median income for households within a block of houses\n",
    "9. `median_house_value`: median house value for households within a block\n",
    "10. `ocean_proximity`: location of the house w.r.t ocean/sea\n",
    "\n",
    "---\n",
    "# 1. Get the data\n",
    "Let's start the lab by loading the dataset. The can find the dataset at `data/housing.csv`. To infer column types automatically, when you are reading the file, you need to set `inferSchema` to true. Moreover enable the `header` option to read the columns' name from the file."
   ]
  },
  {
   "cell_type": "code",
   "execution_count": 1,
   "metadata": {},
   "outputs": [],
   "source": [
    "from pyspark.sql import SparkSession\n",
    "\n",
    "spark = SparkSession.builder.appName(\"Lab 1\").getOrCreate()\n",
    "\n",
    "filename = \"data/housing.csv\"\n",
    "\n",
    "housing = spark.read.csv(filename,header=True,inferSchema=True)"
   ]
  },
  {
   "cell_type": "markdown",
   "metadata": {},
   "source": [
    "---\n",
    "# 2. Discover the data to gain insights\n",
    "Now it is time to take a look at the data. In this step we are going to take a look at the data a few different ways:\n",
    "* See the schema and dimension of the dataset\n",
    "* Look at the data itself\n",
    "* Statistical summary of the attributes\n",
    "* Breakdown of the data by the categorical attribute variable\n",
    "* Find the correlation among different attributes\n",
    "* Make new attributes by combining existing attributes"
   ]
  },
  {
   "cell_type": "markdown",
   "metadata": {},
   "source": [
    "## 2.1. Schema and dimension\n",
    "Print the schema of the dataset"
   ]
  },
  {
   "cell_type": "code",
   "execution_count": 2,
   "metadata": {},
   "outputs": [
    {
     "name": "stdout",
     "output_type": "stream",
     "text": [
      "root\n",
      " |-- longitude: double (nullable = true)\n",
      " |-- latitude: double (nullable = true)\n",
      " |-- housing_median_age: double (nullable = true)\n",
      " |-- total_rooms: double (nullable = true)\n",
      " |-- total_bedrooms: double (nullable = true)\n",
      " |-- population: double (nullable = true)\n",
      " |-- households: double (nullable = true)\n",
      " |-- median_income: double (nullable = true)\n",
      " |-- median_house_value: double (nullable = true)\n",
      " |-- ocean_proximity: string (nullable = true)\n",
      "\n"
     ]
    }
   ],
   "source": [
    "housing.printSchema()"
   ]
  },
  {
   "cell_type": "markdown",
   "metadata": {},
   "source": [
    "Print the number of records in the dataset."
   ]
  },
  {
   "cell_type": "code",
   "execution_count": 3,
   "metadata": {},
   "outputs": [
    {
     "data": {
      "text/plain": [
       "20640"
      ]
     },
     "execution_count": 3,
     "metadata": {},
     "output_type": "execute_result"
    }
   ],
   "source": [
    "housing.count()"
   ]
  },
  {
   "cell_type": "markdown",
   "metadata": {},
   "source": [
    "## 2.2. Look at the data\n",
    "Print the first five records of the dataset."
   ]
  },
  {
   "cell_type": "code",
   "execution_count": 4,
   "metadata": {},
   "outputs": [
    {
     "name": "stdout",
     "output_type": "stream",
     "text": [
      "+---------+--------+------------------+-----------+--------------+----------+----------+-------------+------------------+---------------+\n",
      "|longitude|latitude|housing_median_age|total_rooms|total_bedrooms|population|households|median_income|median_house_value|ocean_proximity|\n",
      "+---------+--------+------------------+-----------+--------------+----------+----------+-------------+------------------+---------------+\n",
      "|  -122.23|   37.88|              41.0|      880.0|         129.0|     322.0|     126.0|       8.3252|          452600.0|       NEAR BAY|\n",
      "|  -122.22|   37.86|              21.0|     7099.0|        1106.0|    2401.0|    1138.0|       8.3014|          358500.0|       NEAR BAY|\n",
      "|  -122.24|   37.85|              52.0|     1467.0|         190.0|     496.0|     177.0|       7.2574|          352100.0|       NEAR BAY|\n",
      "|  -122.25|   37.85|              52.0|     1274.0|         235.0|     558.0|     219.0|       5.6431|          341300.0|       NEAR BAY|\n",
      "|  -122.25|   37.85|              52.0|     1627.0|         280.0|     565.0|     259.0|       3.8462|          342200.0|       NEAR BAY|\n",
      "+---------+--------+------------------+-----------+--------------+----------+----------+-------------+------------------+---------------+\n",
      "only showing top 5 rows\n",
      "\n"
     ]
    }
   ],
   "source": [
    "housing.show(5)"
   ]
  },
  {
   "cell_type": "markdown",
   "metadata": {},
   "source": [
    "Print the number of records with population more than 10000."
   ]
  },
  {
   "cell_type": "code",
   "execution_count": 5,
   "metadata": {},
   "outputs": [
    {
     "data": {
      "text/plain": [
       "23"
      ]
     },
     "execution_count": 5,
     "metadata": {},
     "output_type": "execute_result"
    }
   ],
   "source": [
    "housing.where(housing.population>10000).count()"
   ]
  },
  {
   "cell_type": "markdown",
   "metadata": {},
   "source": [
    "## 2.3. Statistical summary\n",
    "Print a summary of the table statistics for the attributes `housing_median_age`, `total_rooms`, `median_house_value`, and `population`. You can use the `describe` command."
   ]
  },
  {
   "cell_type": "code",
   "execution_count": 6,
   "metadata": {},
   "outputs": [
    {
     "name": "stdout",
     "output_type": "stream",
     "text": [
      "+-------+------------------+------------------+------------------+------------------+\n",
      "|summary|housing_median_age|       total_rooms|median_house_value|        population|\n",
      "+-------+------------------+------------------+------------------+------------------+\n",
      "|  count|             20640|             20640|             20640|             20640|\n",
      "|   mean|28.639486434108527|2635.7630813953488|206855.81690891474|1425.4767441860465|\n",
      "| stddev| 12.58555761211163|2181.6152515827944|115395.61587441359|  1132.46212176534|\n",
      "|    min|               1.0|               2.0|           14999.0|               3.0|\n",
      "|    max|              52.0|           39320.0|          500001.0|           35682.0|\n",
      "+-------+------------------+------------------+------------------+------------------+\n",
      "\n"
     ]
    }
   ],
   "source": [
    "housing.describe(['housing_median_age','total_rooms','median_house_value','population']).show()"
   ]
  },
  {
   "cell_type": "markdown",
   "metadata": {},
   "source": [
    "Print the maximum age (`housing_median_age`), the minimum number of rooms (`total_rooms`), and the average of house values (`median_house_value`)."
   ]
  },
  {
   "cell_type": "code",
   "execution_count": 7,
   "metadata": {},
   "outputs": [
    {
     "name": "stdout",
     "output_type": "stream",
     "text": [
      "max=52.0 min=2.0 avg=206855.81690891474\n"
     ]
    }
   ],
   "source": [
    "from pyspark.sql.functions import col,max,min,avg\n",
    "\n",
    "max_housing_median_age = housing.select(max(col('housing_median_age')).alias('max_housing_median_age')).collect()[0].asDict()['max_housing_median_age']\n",
    "min_total_rooms = housing.select(min(col('total_rooms')).alias('min_total_rooms')).collect()[0].asDict()['min_total_rooms']\n",
    "avg_median_house_value = housing.select(avg(col('median_house_value')).alias('avg_median_house_value')).collect()[0].asDict()['avg_median_house_value']\n",
    "\n",
    "print(f\"max={max_housing_median_age} min={min_total_rooms} avg={avg_median_house_value}\")"
   ]
  },
  {
   "cell_type": "markdown",
   "metadata": {},
   "source": [
    "## 2.4. Breakdown the data by categorical data\n",
    "Print the number of houses in different areas (`ocean_proximity`), and sort them in descending order."
   ]
  },
  {
   "cell_type": "code",
   "execution_count": 8,
   "metadata": {},
   "outputs": [
    {
     "name": "stdout",
     "output_type": "stream",
     "text": [
      "+---------------+-----+\n",
      "|ocean_proximity|count|\n",
      "+---------------+-----+\n",
      "|      <1H OCEAN| 9136|\n",
      "|         INLAND| 6551|\n",
      "|     NEAR OCEAN| 2658|\n",
      "|       NEAR BAY| 2290|\n",
      "|         ISLAND|    5|\n",
      "+---------------+-----+\n",
      "\n"
     ]
    }
   ],
   "source": [
    "from pyspark.sql.functions import desc\n",
    "\n",
    "housing.groupBy(\"ocean_proximity\").count().sort(desc(\"count\")).show()"
   ]
  },
  {
   "cell_type": "markdown",
   "metadata": {},
   "source": [
    "Print the average value of the houses (`median_house_value`) in different areas (`ocean_proximity`), and call the new column `avg_value` when print it."
   ]
  },
  {
   "cell_type": "code",
   "execution_count": 9,
   "metadata": {},
   "outputs": [
    {
     "name": "stdout",
     "output_type": "stream",
     "text": [
      "+---------------+------------------+\n",
      "|ocean_proximity|         avg_value|\n",
      "+---------------+------------------+\n",
      "|         ISLAND|          380440.0|\n",
      "|     NEAR OCEAN|249433.97742663656|\n",
      "|       NEAR BAY|259212.31179039303|\n",
      "|      <1H OCEAN|240084.28546409807|\n",
      "|         INLAND|124805.39200122119|\n",
      "+---------------+------------------+\n",
      "\n"
     ]
    }
   ],
   "source": [
    "housing.groupBy(\"ocean_proximity\").agg(avg(\"median_house_value\").alias(\"avg_value\")).show()"
   ]
  },
  {
   "cell_type": "markdown",
   "metadata": {},
   "source": [
    "Rewrite the above question in SQL."
   ]
  },
  {
   "cell_type": "code",
   "execution_count": 10,
   "metadata": {},
   "outputs": [
    {
     "name": "stdout",
     "output_type": "stream",
     "text": [
      "+---------------+------------------+\n",
      "|ocean_proximity|         avg_value|\n",
      "+---------------+------------------+\n",
      "|         ISLAND|          380440.0|\n",
      "|     NEAR OCEAN|249433.97742663656|\n",
      "|       NEAR BAY|259212.31179039303|\n",
      "|      <1H OCEAN|240084.28546409807|\n",
      "|         INLAND|124805.39200122119|\n",
      "+---------------+------------------+\n",
      "\n"
     ]
    }
   ],
   "source": [
    "housing.createOrReplaceTempView(\"df\")\n",
    "spark.sql(\"SELECT ocean_proximity, AVG(median_house_value) AS avg_value FROM df GROUP BY ocean_proximity\").show()"
   ]
  },
  {
   "cell_type": "markdown",
   "metadata": {},
   "source": [
    "## 2.5. Correlation among attributes\n",
    "Print the correlation among the attributes `housing_median_age`, `total_rooms`, `median_house_value`, and `population`. To do so, first you need to put these attributes into one vector. Then, compute the standard correlation coefficient (Pearson) between every pair of attributes in this new vector. To make a vector of these attributes, you can use the `VectorAssembler` Transformer."
   ]
  },
  {
   "cell_type": "code",
   "execution_count": 11,
   "metadata": {
    "scrolled": true
   },
   "outputs": [
    {
     "name": "stdout",
     "output_type": "stream",
     "text": [
      "+---------+--------+------------------+-----------+--------------+----------+----------+-------------+------------------+---------------+--------------------+\n",
      "|longitude|latitude|housing_median_age|total_rooms|total_bedrooms|population|households|median_income|median_house_value|ocean_proximity|          attributes|\n",
      "+---------+--------+------------------+-----------+--------------+----------+----------+-------------+------------------+---------------+--------------------+\n",
      "|  -122.23|   37.88|              41.0|      880.0|         129.0|     322.0|     126.0|       8.3252|          452600.0|       NEAR BAY|[41.0,880.0,45260...|\n",
      "|  -122.22|   37.86|              21.0|     7099.0|        1106.0|    2401.0|    1138.0|       8.3014|          358500.0|       NEAR BAY|[21.0,7099.0,3585...|\n",
      "|  -122.24|   37.85|              52.0|     1467.0|         190.0|     496.0|     177.0|       7.2574|          352100.0|       NEAR BAY|[52.0,1467.0,3521...|\n",
      "|  -122.25|   37.85|              52.0|     1274.0|         235.0|     558.0|     219.0|       5.6431|          341300.0|       NEAR BAY|[52.0,1274.0,3413...|\n",
      "|  -122.25|   37.85|              52.0|     1627.0|         280.0|     565.0|     259.0|       3.8462|          342200.0|       NEAR BAY|[52.0,1627.0,3422...|\n",
      "+---------+--------+------------------+-----------+--------------+----------+----------+-------------+------------------+---------------+--------------------+\n",
      "only showing top 5 rows\n",
      "\n"
     ]
    }
   ],
   "source": [
    "import numpy as np\n",
    "from pyspark.ml.stat import Correlation\n",
    "from pyspark.ml.feature import VectorAssembler\n",
    "\n",
    "va = VectorAssembler(inputCols=['housing_median_age', 'total_rooms', 'median_house_value', 'population'],outputCol='attributes')\n",
    "housing_assembled = va.transform(housing)\n",
    "housing_assembled.show(5)"
   ]
  },
  {
   "cell_type": "code",
   "execution_count": 12,
   "metadata": {},
   "outputs": [
    {
     "name": "stdout",
     "output_type": "stream",
     "text": [
      "Pearson correlation matrix:\n",
      "DenseMatrix([[ 1.        , -0.3612622 ,  0.10562341, -0.29624424],\n",
      "             [-0.3612622 ,  1.        ,  0.13415311,  0.85712597],\n",
      "             [ 0.10562341,  0.13415311,  1.        , -0.02464968],\n",
      "             [-0.29624424,  0.85712597, -0.02464968,  1.        ]])\n"
     ]
    },
    {
     "name": "stderr",
     "output_type": "stream",
     "text": [
      "/home/ali/spark-3.2.0-bin-hadoop3.2/python/pyspark/sql/context.py:127: FutureWarning: Deprecated in 3.0.0. Use SparkSession.builder.getOrCreate() instead.\n",
      "  FutureWarning\n"
     ]
    }
   ],
   "source": [
    "coeff = Correlation.corr(housing_assembled, \"attributes\").head()\n",
    "print(\"Pearson correlation matrix:\\n\" + str(coeff[0]))"
   ]
  },
  {
   "cell_type": "markdown",
   "metadata": {},
   "source": [
    "## 2.6. Combine and make new attributes\n",
    "Now, let's try out various attribute combinations. In the given dataset, the total number of rooms in a block is not very useful, if we don't know how many households there are. What we really want is the number of rooms per household. Similarly, the total number of bedrooms by itself is not very useful, and we want to compare it to the number of rooms. And the population per household seems like also an interesting attribute combination to look at. To do so, add the three new columns to the dataset as below. We will call the new dataset the `housingExtra`.\n",
    "```\n",
    "rooms_per_household = total_rooms / households\n",
    "bedrooms_per_room = total_bedrooms / total_rooms\n",
    "population_per_household = population / households\n",
    "```"
   ]
  },
  {
   "cell_type": "code",
   "execution_count": 13,
   "metadata": {},
   "outputs": [
    {
     "name": "stdout",
     "output_type": "stream",
     "text": [
      "+-------------------+-------------------+------------------------+\n",
      "|rooms_per_household|  bedrooms_per_room|population_per_household|\n",
      "+-------------------+-------------------+------------------------+\n",
      "|  6.984126984126984|0.14659090909090908|      2.5555555555555554|\n",
      "|  6.238137082601054|0.15579659106916466|       2.109841827768014|\n",
      "|  8.288135593220339|0.12951601908657123|      2.8022598870056497|\n",
      "| 5.8173515981735155|0.18445839874411302|       2.547945205479452|\n",
      "|  6.281853281853282| 0.1720958819913952|      2.1814671814671813|\n",
      "+-------------------+-------------------+------------------------+\n",
      "only showing top 5 rows\n",
      "\n"
     ]
    }
   ],
   "source": [
    "housingCol1 = housing.withColumn('rooms_per_household', housing.total_rooms / housing.households)\n",
    "housingCol2 = housingCol1.withColumn('bedrooms_per_room', housingCol1.total_bedrooms / housingCol1.total_rooms)\n",
    "housingExtra = housingCol2.withColumn('population_per_household', housingCol2.population / housingCol2.households)\n",
    "\n",
    "housingExtra.select(\"rooms_per_household\", \"bedrooms_per_room\", \"population_per_household\").show(5)"
   ]
  },
  {
   "cell_type": "markdown",
   "metadata": {},
   "source": [
    "---\n",
    "## 3. Prepare the data for Machine Learning algorithms\n",
    "Before going through the Machine Learning steps, let's first rename the label column from `median_house_value` to `label`."
   ]
  },
  {
   "cell_type": "code",
   "execution_count": 14,
   "metadata": {},
   "outputs": [
    {
     "name": "stdout",
     "output_type": "stream",
     "text": [
      "root\n",
      " |-- longitude: double (nullable = true)\n",
      " |-- latitude: double (nullable = true)\n",
      " |-- housing_median_age: double (nullable = true)\n",
      " |-- total_rooms: double (nullable = true)\n",
      " |-- total_bedrooms: double (nullable = true)\n",
      " |-- population: double (nullable = true)\n",
      " |-- households: double (nullable = true)\n",
      " |-- median_income: double (nullable = true)\n",
      " |-- label: double (nullable = true)\n",
      " |-- ocean_proximity: string (nullable = true)\n",
      " |-- rooms_per_household: double (nullable = true)\n",
      " |-- bedrooms_per_room: double (nullable = true)\n",
      " |-- population_per_household: double (nullable = true)\n",
      "\n"
     ]
    }
   ],
   "source": [
    "renamedHousing = housingExtra.withColumnRenamed(\"median_house_value\",\"label\")\n",
    "renamedHousing.printSchema()"
   ]
  },
  {
   "cell_type": "markdown",
   "metadata": {},
   "source": [
    "Now, we want to separate the numerical attributes from the categorical attribute (`ocean_proximity`) and keep their column names in two different lists. Moreover, since we don't want to apply the same transformations to the predictors (features) and the label, we should remove the label attribute from the list of predictors. "
   ]
  },
  {
   "cell_type": "code",
   "execution_count": 16,
   "metadata": {},
   "outputs": [
    {
     "name": "stdout",
     "output_type": "stream",
     "text": [
      "Categorical:\n",
      "root\n",
      " |-- ocean_proximity: string (nullable = true)\n",
      "\n",
      "Numerical:\n",
      "root\n",
      " |-- longitude: double (nullable = true)\n",
      " |-- latitude: double (nullable = true)\n",
      " |-- housing_median_age: double (nullable = true)\n",
      " |-- total_rooms: double (nullable = true)\n",
      " |-- total_bedrooms: double (nullable = true)\n",
      " |-- population: double (nullable = true)\n",
      " |-- households: double (nullable = true)\n",
      " |-- median_income: double (nullable = true)\n",
      " |-- rooms_per_household: double (nullable = true)\n",
      " |-- bedrooms_per_room: double (nullable = true)\n",
      " |-- population_per_household: double (nullable = true)\n",
      "\n",
      "Labels:\n",
      "root\n",
      " |-- label: double (nullable = true)\n",
      "\n"
     ]
    }
   ],
   "source": [
    "# // label columns\n",
    "# val colLabel = \"label\"\n",
    "\n",
    "# // categorical columns\n",
    "# val colCat = \"ocean_proximity\"\n",
    "\n",
    "# // numerical columns\n",
    "# val colNum = renamedHousing.columns.filter(_ != colLabel).filter(_ != colCat)\n",
    "\n",
    "colLabel = renamedHousing.select(\"label\")\n",
    "colCat = renamedHousing.select(\"ocean_proximity\")\n",
    "colNum = renamedHousing.drop(\"label\").drop(\"ocean_proximity\")\n",
    "\n",
    "print(\"Categorical:\")\n",
    "colCat.printSchema()\n",
    "\n",
    "print(\"Numerical:\")\n",
    "colNum.printSchema()\n",
    "\n",
    "print(\"Labels:\")\n",
    "colLabel.printSchema()"
   ]
  },
  {
   "cell_type": "markdown",
   "metadata": {},
   "source": [
    "## 3.1. Prepare continuous attributes\n",
    "### Data cleaning\n",
    "Most Machine Learning algorithms cannot work with missing features, so we should take care of them. As a first step, let's find the columns with missing values in the numerical attributes. To do so, we can print the number of missing values of each continues attributes, listed in `colNum`."
   ]
  },
  {
   "cell_type": "code",
   "execution_count": 17,
   "metadata": {},
   "outputs": [
    {
     "name": "stdout",
     "output_type": "stream",
     "text": [
      "+---------+--------+------------------+-----------+--------------+----------+----------+-------------+-------------------+-----------------+------------------------+\n",
      "|longitude|latitude|housing_median_age|total_rooms|total_bedrooms|population|households|median_income|rooms_per_household|bedrooms_per_room|population_per_household|\n",
      "+---------+--------+------------------+-----------+--------------+----------+----------+-------------+-------------------+-----------------+------------------------+\n",
      "|        0|       0|                 0|          0|           207|         0|         0|            0|                  0|              207|                       0|\n",
      "+---------+--------+------------------+-----------+--------------+----------+----------+-------------+-------------------+-----------------+------------------------+\n",
      "\n"
     ]
    }
   ],
   "source": [
    "from pyspark.sql.functions import col,sum\n",
    "colNum.select(*(sum(col(c).isNull().cast(\"int\")).alias(c) for c in colNum.columns)).show()"
   ]
  },
  {
   "cell_type": "markdown",
   "metadata": {},
   "source": [
    "As we observerd above, the `total_bedrooms` and `bedrooms_per_room` attributes have some missing values. One way to take care of missing values is to use the `Imputer` Transformer, which completes missing values in a dataset, either using the mean or the median of the columns in which the missing values are located. To use it, you need to create an `Imputer` instance, specifying that you want to replace each attribute's missing values with the \"median\" of that attribute."
   ]
  },
  {
   "cell_type": "code",
   "execution_count": 18,
   "metadata": {},
   "outputs": [
    {
     "name": "stdout",
     "output_type": "stream",
     "text": [
      "+--------------+-------------------+\n",
      "|total_bedrooms|  bedrooms_per_room|\n",
      "+--------------+-------------------+\n",
      "|         129.0|0.14659090909090908|\n",
      "|        1106.0|0.15579659106916466|\n",
      "|         190.0|0.12951601908657123|\n",
      "|         235.0|0.18445839874411302|\n",
      "|         280.0| 0.1720958819913952|\n",
      "+--------------+-------------------+\n",
      "only showing top 5 rows\n",
      "\n"
     ]
    }
   ],
   "source": [
    "# // TODO: Replace <FILL IN> with appropriate code\n",
    "\n",
    "# import org.apache.spark.ml.feature.Imputer\n",
    "\n",
    "# val imputer = new Imputer().setStrategy(\"median\").<FILL IN>                                  \n",
    "# val imputedHousing = imputer.fit(renamedHousing).transform(renamedHousing)\n",
    "\n",
    "# imputedHousing.select(\"total_bedrooms\", \"bedrooms_per_room\").show(5)\n",
    "\n",
    "from pyspark.ml.feature import Imputer\n",
    "\n",
    "imputer = Imputer(\n",
    "    inputCols=['total_bedrooms','bedrooms_per_room'], \n",
    "    outputCols=['total_bedrooms','bedrooms_per_room']\n",
    "    ).setStrategy(\"median\")\n",
    "\n",
    "imputedHousing = imputer.fit(renamedHousing).transform(renamedHousing)\n",
    "imputedHousing.select(\"total_bedrooms\", \"bedrooms_per_room\").show(5)"
   ]
  },
  {
   "cell_type": "code",
   "execution_count": 19,
   "metadata": {},
   "outputs": [
    {
     "name": "stdout",
     "output_type": "stream",
     "text": [
      "+---------+--------+------------------+-----------+--------------+----------+----------+-------------+-----+---------------+-------------------+-----------------+------------------------+\n",
      "|longitude|latitude|housing_median_age|total_rooms|total_bedrooms|population|households|median_income|label|ocean_proximity|rooms_per_household|bedrooms_per_room|population_per_household|\n",
      "+---------+--------+------------------+-----------+--------------+----------+----------+-------------+-----+---------------+-------------------+-----------------+------------------------+\n",
      "|        0|       0|                 0|          0|             0|         0|         0|            0|    0|              0|                  0|                0|                       0|\n",
      "+---------+--------+------------------+-----------+--------------+----------+----------+-------------+-----+---------------+-------------------+-----------------+------------------------+\n",
      "\n"
     ]
    }
   ],
   "source": [
    "imputedHousing.select(*(sum(col(c).isNull().cast(\"int\")).alias(c) for c in imputedHousing.columns)).show()"
   ]
  },
  {
   "cell_type": "markdown",
   "metadata": {},
   "source": [
    "### Scaling\n",
    "One of the most important transformations you need to apply to your data is feature scaling. With few exceptions, Machine Learning algorithms don't perform well when the input numerical attributes have very different scales. This is the case for the housing data: the total number of rooms ranges from about 6 to 39,320, while the median incomes only range from 0 to 15. Note that scaling the label attribues is generally not required.\n",
    "\n",
    "One way to get all attributes to have the same scale is to use standardization. In standardization, for each value, first it subtracts the mean value (so standardized values always have a zero mean), and then it divides by the variance so that the resulting distribution has unit variance. To do this, we can use the `StandardScaler` Estimator. To use `StandardScaler`, again we need to convert all the numerical attributes into a big vectore of features using `VectorAssembler`, and then call `StandardScaler` on that vactor."
   ]
  },
  {
   "cell_type": "code",
   "execution_count": 67,
   "metadata": {},
   "outputs": [
    {
     "name": "stdout",
     "output_type": "stream",
     "text": [
      "+--------------------+--------------------------+\n",
      "|assembledNumFeatures|scaledAssembledNumFeatures|\n",
      "+--------------------+--------------------------+\n",
      "|[-122.23,37.88,41...|      [-1.3278030546902...|\n",
      "|[-122.22,37.86,21...|      [-1.3228118684350...|\n",
      "|[-122.24,37.85,52...|      [-1.3327942409452...|\n",
      "|[-122.25,37.85,52...|      [-1.3377854272003...|\n",
      "|[-122.25,37.85,52...|      [-1.3377854272003...|\n",
      "+--------------------+--------------------------+\n",
      "only showing top 5 rows\n",
      "\n"
     ]
    }
   ],
   "source": [
    "from pyspark.ml.feature import VectorAssembler,StandardScaler\n",
    "\n",
    "va = VectorAssembler(inputCols=colNum.schema.names,outputCol='assembledNumFeatures')\n",
    "featuredHousing = va.transform(imputedHousing)\n",
    "\n",
    "scaler = StandardScaler(inputCol=\"assembledNumFeatures\", outputCol=\"scaledAssembledNumFeatures\", withStd=True, withMean=True)\n",
    "scaledHousing = scaler.fit(featuredHousing).transform(featuredHousing)\n",
    "# .drop(\"assembledNumFeatures\").withColumnRenamed(\"scaledFeatures\",\"features\")\n",
    "scaledHousing.select(\"assembledNumFeatures\",\"scaledAssembledNumFeatures\").show(5)"
   ]
  },
  {
   "cell_type": "markdown",
   "metadata": {},
   "source": [
    "## 3.2. Prepare categorical attributes\n",
    "After imputing and scaling the continuous attributes, we should take care of the categorical attributes. Let's first print the number of distict values of the categirical attribute `ocean_proximity`."
   ]
  },
  {
   "cell_type": "code",
   "execution_count": 21,
   "metadata": {},
   "outputs": [
    {
     "name": "stdout",
     "output_type": "stream",
     "text": [
      "+---------------+-----+\n",
      "|ocean_proximity|count|\n",
      "+---------------+-----+\n",
      "|      <1H OCEAN| 9136|\n",
      "|         INLAND| 6551|\n",
      "|     NEAR OCEAN| 2658|\n",
      "|       NEAR BAY| 2290|\n",
      "|         ISLAND|    5|\n",
      "+---------------+-----+\n",
      "\n"
     ]
    }
   ],
   "source": [
    "# [l[\"ocean_proximity\"] for l in renamedHousing.select(\"ocean_proximity\").distinct().collect()]\n",
    "\n",
    "scaledHousing.groupBy(\"ocean_proximity\").count().sort(desc(\"count\")).show()"
   ]
  },
  {
   "cell_type": "markdown",
   "metadata": {},
   "source": [
    "### String indexer\n",
    "Most Machine Learning algorithms prefer to work with numbers. So let's convert the categorical attribute `ocean_proximity` to numbers. To do so, we can use the `StringIndexer` that encodes a string column of labels to a column of label indices. The indices are in [0, numLabels), ordered by label frequencies, so the most frequent label gets index 0."
   ]
  },
  {
   "cell_type": "code",
   "execution_count": 22,
   "metadata": {},
   "outputs": [
    {
     "name": "stdout",
     "output_type": "stream",
     "text": [
      "+---------+--------+------------------+-----------+--------------+----------+----------+-------------+--------+---------------+-------------------+-------------------+------------------------+--------------------+--------------------------+-----------------------+\n",
      "|longitude|latitude|housing_median_age|total_rooms|total_bedrooms|population|households|median_income|   label|ocean_proximity|rooms_per_household|  bedrooms_per_room|population_per_household|assembledNumFeatures|scaledAssembledNumFeatures|indexed_ocean_proximity|\n",
      "+---------+--------+------------------+-----------+--------------+----------+----------+-------------+--------+---------------+-------------------+-------------------+------------------------+--------------------+--------------------------+-----------------------+\n",
      "|  -122.23|   37.88|              41.0|      880.0|         129.0|     322.0|     126.0|       8.3252|452600.0|       NEAR BAY|  6.984126984126984|0.14659090909090908|      2.5555555555555554|[-122.23,37.88,41...|      [-1.3278030546902...|                    3.0|\n",
      "|  -122.22|   37.86|              21.0|     7099.0|        1106.0|    2401.0|    1138.0|       8.3014|358500.0|       NEAR BAY|  6.238137082601054|0.15579659106916466|       2.109841827768014|[-122.22,37.86,21...|      [-1.3228118684350...|                    3.0|\n",
      "|  -122.24|   37.85|              52.0|     1467.0|         190.0|     496.0|     177.0|       7.2574|352100.0|       NEAR BAY|  8.288135593220339|0.12951601908657123|      2.8022598870056497|[-122.24,37.85,52...|      [-1.3327942409452...|                    3.0|\n",
      "|  -122.25|   37.85|              52.0|     1274.0|         235.0|     558.0|     219.0|       5.6431|341300.0|       NEAR BAY| 5.8173515981735155|0.18445839874411302|       2.547945205479452|[-122.25,37.85,52...|      [-1.3377854272003...|                    3.0|\n",
      "|  -122.25|   37.85|              52.0|     1627.0|         280.0|     565.0|     259.0|       3.8462|342200.0|       NEAR BAY|  6.281853281853282| 0.1720958819913952|      2.1814671814671813|[-122.25,37.85,52...|      [-1.3377854272003...|                    3.0|\n",
      "+---------+--------+------------------+-----------+--------------+----------+----------+-------------+--------+---------------+-------------------+-------------------+------------------------+--------------------+--------------------------+-----------------------+\n",
      "only showing top 5 rows\n",
      "\n"
     ]
    }
   ],
   "source": [
    "from pyspark.ml.feature import StringIndexer\n",
    "\n",
    "indexer = StringIndexer(inputCol=\"ocean_proximity\", outputCol=\"indexed_ocean_proximity\", stringOrderType=\"frequencyDesc\")\n",
    "idxHousing = indexer.fit(scaledHousing).transform(scaledHousing)\n",
    "# .drop(\"ocean_proximity\").withColumnRenamed(\"indexedOceanProximity\",\"ocean_proximity\")\n",
    "idxHousing.show(5)"
   ]
  },
  {
   "cell_type": "markdown",
   "metadata": {},
   "source": [
    "Now we can use this numerical data in any Machine Learning algorithm. You can look at the mapping that this encoder has learned using the `labels` method: \"<1H OCEAN\" is mapped to 0, \"INLAND\" is mapped to 1, etc."
   ]
  },
  {
   "cell_type": "code",
   "execution_count": 23,
   "metadata": {},
   "outputs": [
    {
     "data": {
      "text/plain": [
       "['<1H OCEAN', 'INLAND', 'NEAR OCEAN', 'NEAR BAY', 'ISLAND']"
      ]
     },
     "execution_count": 23,
     "metadata": {},
     "output_type": "execute_result"
    }
   ],
   "source": [
    "indexer.fit(renamedHousing).labels"
   ]
  },
  {
   "cell_type": "markdown",
   "metadata": {},
   "source": [
    "### One-hot encoding\n",
    "Now, convert the label indices built in the last step into one-hot vectors. To do this, you can take advantage of the `OneHotEncoderEstimator` Estimator."
   ]
  },
  {
   "cell_type": "code",
   "execution_count": 27,
   "metadata": {},
   "outputs": [
    {
     "name": "stdout",
     "output_type": "stream",
     "text": [
      "+---------+--------+------------------+-----------+--------------+----------+----------+-------------+--------+---------------+-------------------+-------------------+------------------------+--------------------+--------------------------+-----------------------+----------------------+\n",
      "|longitude|latitude|housing_median_age|total_rooms|total_bedrooms|population|households|median_income|   label|ocean_proximity|rooms_per_household|  bedrooms_per_room|population_per_household|assembledNumFeatures|scaledAssembledNumFeatures|indexed_ocean_proximity|ocean_proximity_onehot|\n",
      "+---------+--------+------------------+-----------+--------------+----------+----------+-------------+--------+---------------+-------------------+-------------------+------------------------+--------------------+--------------------------+-----------------------+----------------------+\n",
      "|  -122.23|   37.88|              41.0|      880.0|         129.0|     322.0|     126.0|       8.3252|452600.0|       NEAR BAY|  6.984126984126984|0.14659090909090908|      2.5555555555555554|[-122.23,37.88,41...|      [-1.3278030546902...|                    3.0|         (4,[3],[1.0])|\n",
      "|  -122.22|   37.86|              21.0|     7099.0|        1106.0|    2401.0|    1138.0|       8.3014|358500.0|       NEAR BAY|  6.238137082601054|0.15579659106916466|       2.109841827768014|[-122.22,37.86,21...|      [-1.3228118684350...|                    3.0|         (4,[3],[1.0])|\n",
      "|  -122.24|   37.85|              52.0|     1467.0|         190.0|     496.0|     177.0|       7.2574|352100.0|       NEAR BAY|  8.288135593220339|0.12951601908657123|      2.8022598870056497|[-122.24,37.85,52...|      [-1.3327942409452...|                    3.0|         (4,[3],[1.0])|\n",
      "|  -122.25|   37.85|              52.0|     1274.0|         235.0|     558.0|     219.0|       5.6431|341300.0|       NEAR BAY| 5.8173515981735155|0.18445839874411302|       2.547945205479452|[-122.25,37.85,52...|      [-1.3377854272003...|                    3.0|         (4,[3],[1.0])|\n",
      "|  -122.25|   37.85|              52.0|     1627.0|         280.0|     565.0|     259.0|       3.8462|342200.0|       NEAR BAY|  6.281853281853282| 0.1720958819913952|      2.1814671814671813|[-122.25,37.85,52...|      [-1.3377854272003...|                    3.0|         (4,[3],[1.0])|\n",
      "+---------+--------+------------------+-----------+--------------+----------+----------+-------------+--------+---------------+-------------------+-------------------+------------------------+--------------------+--------------------------+-----------------------+----------------------+\n",
      "only showing top 5 rows\n",
      "\n"
     ]
    }
   ],
   "source": [
    "# // TODO: Replace <FILL IN> with appropriate code\n",
    "\n",
    "# import org.apache.spark.ml.feature.OneHotEncoderEstimator\n",
    "\n",
    "# val encoder = new OneHotEncoderEstimator().<FILL IN>\n",
    "# val ohHousing = encoder.fit(idxHousing).transform(idxHousing)\n",
    "\n",
    "# ohHousing.show(5)\n",
    "\n",
    "from pyspark.ml.feature import OneHotEncoder\n",
    "encoder = OneHotEncoder(inputCol=\"indexed_ocean_proximity\", outputCol=\"ocean_proximity_onehot\")\n",
    "# ohHousing = encoder.transform(idxHousing)\n",
    "# # .drop(\"ocean_proximity\").withColumnRenamed(\"oh_ocean_proximity\",\"ocean_proximity\")\n",
    "# ohHousing.show(5)\n",
    "\n",
    "# encoder = OneHotEncoder(inputCols=[\"categoryIndex1\", \"categoryIndex2\"],\n",
    "#                         outputCols=[\"categoryVec1\", \"categoryVec2\"])\n",
    "model = encoder.fit(idxHousing)\n",
    "ohHousing = model.transform(idxHousing)\n",
    "ohHousing.show(5)\n",
    "\n",
    "# from pyspark.ml.feature import OneHotEncoderEstimator\n",
    "# encoder = OneHotEncoderEstimator(inputCols=[\"indexed_ocean_proximity\"], outputCols=[\"features\"])\n",
    "# ohHousing = ohe.fit(idxHousing).transform(idxHousing)\n",
    "# ohHousing.show(5)"
   ]
  },
  {
   "cell_type": "code",
   "execution_count": 29,
   "metadata": {},
   "outputs": [
    {
     "name": "stdout",
     "output_type": "stream",
     "text": [
      "root\n",
      " |-- longitude: double (nullable = true)\n",
      " |-- latitude: double (nullable = true)\n",
      " |-- housing_median_age: double (nullable = true)\n",
      " |-- total_rooms: double (nullable = true)\n",
      " |-- total_bedrooms: double (nullable = true)\n",
      " |-- population: double (nullable = true)\n",
      " |-- households: double (nullable = true)\n",
      " |-- median_income: double (nullable = true)\n",
      " |-- label: double (nullable = true)\n",
      " |-- ocean_proximity: string (nullable = true)\n",
      " |-- rooms_per_household: double (nullable = true)\n",
      " |-- bedrooms_per_room: double (nullable = true)\n",
      " |-- population_per_household: double (nullable = true)\n",
      " |-- assembledNumFeatures: vector (nullable = true)\n",
      " |-- scaledAssembledNumFeatures: vector (nullable = true)\n",
      " |-- indexed_ocean_proximity: double (nullable = false)\n",
      " |-- ocean_proximity_onehot: vector (nullable = true)\n",
      "\n"
     ]
    }
   ],
   "source": [
    "ohHousing.printSchema()"
   ]
  },
  {
   "cell_type": "markdown",
   "metadata": {},
   "source": [
    "---\n",
    "# 4. Pipeline\n",
    "As you can see, there are many data transformation steps that need to be executed in the right order. For example, you called the `Imputer`, `VectorAssembler`, and `StandardScaler` from left to right. However, we can use the `Pipeline` class to define a sequence of Transformers/Estimators, and run them in order. A `Pipeline` is an `Estimator`, thus, after a Pipeline's `fit()` method runs, it produces a `PipelineModel`, which is a `Transformer`.\n",
    "\n",
    "Now, let's create a pipeline called `numPipeline` to call the numerical transformers you built above (`imputer`, `va`, and `scaler`) in the right order from left to right, as well as a pipeline called `catPipeline` to call the categorical transformers (`indexer` and `encoder`). Then, put these two pipelines `numPipeline` and `catPipeline` into one pipeline."
   ]
  },
  {
   "cell_type": "code",
   "execution_count": 26,
   "metadata": {},
   "outputs": [
    {
     "name": "stdout",
     "output_type": "stream",
     "text": [
      "root\n",
      " |-- longitude: double (nullable = true)\n",
      " |-- latitude: double (nullable = true)\n",
      " |-- housing_median_age: double (nullable = true)\n",
      " |-- total_rooms: double (nullable = true)\n",
      " |-- total_bedrooms: double (nullable = true)\n",
      " |-- population: double (nullable = true)\n",
      " |-- households: double (nullable = true)\n",
      " |-- median_income: double (nullable = true)\n",
      " |-- label: double (nullable = true)\n",
      " |-- ocean_proximity: string (nullable = true)\n",
      " |-- rooms_per_household: double (nullable = true)\n",
      " |-- bedrooms_per_room: double (nullable = true)\n",
      " |-- population_per_household: double (nullable = true)\n",
      "\n"
     ]
    }
   ],
   "source": [
    "renamedHousing.printSchema()"
   ]
  },
  {
   "cell_type": "code",
   "execution_count": 30,
   "metadata": {},
   "outputs": [
    {
     "name": "stdout",
     "output_type": "stream",
     "text": [
      "+---------+--------+------------------+-----------+--------------+----------+----------+-------------+--------+---------------+-------------------+-------------------+------------------------+--------------------+--------------------------+-----------------------+----------------------+\n",
      "|longitude|latitude|housing_median_age|total_rooms|total_bedrooms|population|households|median_income|   label|ocean_proximity|rooms_per_household|  bedrooms_per_room|population_per_household|assembledNumFeatures|scaledAssembledNumFeatures|indexed_ocean_proximity|ocean_proximity_onehot|\n",
      "+---------+--------+------------------+-----------+--------------+----------+----------+-------------+--------+---------------+-------------------+-------------------+------------------------+--------------------+--------------------------+-----------------------+----------------------+\n",
      "|  -122.23|   37.88|              41.0|      880.0|         129.0|     322.0|     126.0|       8.3252|452600.0|       NEAR BAY|  6.984126984126984|0.14659090909090908|      2.5555555555555554|[-122.23,37.88,41...|      [-1.3278030546902...|                    3.0|         (4,[3],[1.0])|\n",
      "|  -122.22|   37.86|              21.0|     7099.0|        1106.0|    2401.0|    1138.0|       8.3014|358500.0|       NEAR BAY|  6.238137082601054|0.15579659106916466|       2.109841827768014|[-122.22,37.86,21...|      [-1.3228118684350...|                    3.0|         (4,[3],[1.0])|\n",
      "|  -122.24|   37.85|              52.0|     1467.0|         190.0|     496.0|     177.0|       7.2574|352100.0|       NEAR BAY|  8.288135593220339|0.12951601908657123|      2.8022598870056497|[-122.24,37.85,52...|      [-1.3327942409452...|                    3.0|         (4,[3],[1.0])|\n",
      "|  -122.25|   37.85|              52.0|     1274.0|         235.0|     558.0|     219.0|       5.6431|341300.0|       NEAR BAY| 5.8173515981735155|0.18445839874411302|       2.547945205479452|[-122.25,37.85,52...|      [-1.3377854272003...|                    3.0|         (4,[3],[1.0])|\n",
      "|  -122.25|   37.85|              52.0|     1627.0|         280.0|     565.0|     259.0|       3.8462|342200.0|       NEAR BAY|  6.281853281853282| 0.1720958819913952|      2.1814671814671813|[-122.25,37.85,52...|      [-1.3377854272003...|                    3.0|         (4,[3],[1.0])|\n",
      "+---------+--------+------------------+-----------+--------------+----------+----------+-------------+--------+---------------+-------------------+-------------------+------------------------+--------------------+--------------------------+-----------------------+----------------------+\n",
      "only showing top 5 rows\n",
      "\n"
     ]
    }
   ],
   "source": [
    "# // TODO: Replace <FILL IN> with appropriate code\n",
    "\n",
    "# import org.apache.spark.ml.{Pipeline, PipelineModel, PipelineStage}\n",
    "\n",
    "# val numPipeline = <FILL IN>\n",
    "# val catPipeline = <FILL IN>\n",
    "# val pipeline = new Pipeline().setStages(Array(numPipeline, catPipeline))\n",
    "# val newHousing = pipeline.fit(renamedHousing).transform(renamedHousing)\n",
    "\n",
    "# newHousing.show(5)\n",
    "\n",
    "from pyspark.ml import Pipeline\n",
    "\n",
    "numPipeline = Pipeline(stages=[imputer, va, scaler])\n",
    "catPipeline = Pipeline(stages=[indexer, encoder])\n",
    "\n",
    "pipeline = Pipeline(stages=[numPipeline, catPipeline])\n",
    "\n",
    "newHousing = pipeline.fit(renamedHousing).transform(renamedHousing)\n",
    "\n",
    "newHousing.show(5)"
   ]
  },
  {
   "cell_type": "code",
   "execution_count": 31,
   "metadata": {},
   "outputs": [
    {
     "name": "stdout",
     "output_type": "stream",
     "text": [
      "root\n",
      " |-- longitude: double (nullable = true)\n",
      " |-- latitude: double (nullable = true)\n",
      " |-- housing_median_age: double (nullable = true)\n",
      " |-- total_rooms: double (nullable = true)\n",
      " |-- total_bedrooms: double (nullable = true)\n",
      " |-- population: double (nullable = true)\n",
      " |-- households: double (nullable = true)\n",
      " |-- median_income: double (nullable = true)\n",
      " |-- label: double (nullable = true)\n",
      " |-- ocean_proximity: string (nullable = true)\n",
      " |-- rooms_per_household: double (nullable = true)\n",
      " |-- bedrooms_per_room: double (nullable = true)\n",
      " |-- population_per_household: double (nullable = true)\n",
      " |-- assembledNumFeatures: vector (nullable = true)\n",
      " |-- scaledAssembledNumFeatures: vector (nullable = true)\n",
      " |-- indexed_ocean_proximity: double (nullable = false)\n",
      " |-- ocean_proximity_onehot: vector (nullable = true)\n",
      "\n"
     ]
    }
   ],
   "source": [
    "newHousing.printSchema()"
   ]
  },
  {
   "cell_type": "markdown",
   "metadata": {},
   "source": [
    "Now, use `VectorAssembler` to put all attributes of the final dataset `newHousing` into a big vector, and call the new column `features`."
   ]
  },
  {
   "cell_type": "code",
   "execution_count": 32,
   "metadata": {},
   "outputs": [
    {
     "name": "stdout",
     "output_type": "stream",
     "text": [
      "+--------------------+--------+\n",
      "|            features|   label|\n",
      "+--------------------+--------+\n",
      "|[-1.3278030546902...|452600.0|\n",
      "|[-1.3228118684350...|358500.0|\n",
      "|[-1.3327942409452...|352100.0|\n",
      "|[-1.3377854272003...|341300.0|\n",
      "|[-1.3377854272003...|342200.0|\n",
      "+--------------------+--------+\n",
      "only showing top 5 rows\n",
      "\n"
     ]
    }
   ],
   "source": [
    "va2 = VectorAssembler(inputCols=['scaledAssembledNumFeatures', 'ocean_proximity_onehot'],outputCol='features')\n",
    "dataset = va2.transform(newHousing).select(\"features\", \"label\")\n",
    "\n",
    "dataset.show(5)"
   ]
  },
  {
   "cell_type": "markdown",
   "metadata": {},
   "source": [
    "---\n",
    "# 5. Make a model\n",
    "Here we going to make four different regression models:\n",
    "* Linear regression model\n",
    "* Decission tree regression\n",
    "* Random forest regression\n",
    "* Gradient-booster forest regression\n",
    "\n",
    "But, before giving the data to train a Machine Learning model, let's first split the data into training dataset (`trainSet`) with 80% of the whole data, and test dataset (`testSet`) with 20% of it."
   ]
  },
  {
   "cell_type": "code",
   "execution_count": 33,
   "metadata": {},
   "outputs": [],
   "source": [
    "trainSet, testSet = dataset.randomSplit([0.8,0.2], seed=None)"
   ]
  },
  {
   "cell_type": "markdown",
   "metadata": {},
   "source": [
    "## 5.1. Linear regression model\n",
    "Now, train a Linear Regression model using the `LinearRegression` class. Then, print the coefficients and intercept of the model, as well as the summary of the model over the training set by calling the `summary` method."
   ]
  },
  {
   "cell_type": "code",
   "execution_count": 37,
   "metadata": {},
   "outputs": [
    {
     "name": "stdout",
     "output_type": "stream",
     "text": [
      "numIterations: 0\n",
      "objectiveHistory: [0.0]\n",
      "+-------------------+\n",
      "|          residuals|\n",
      "+-------------------+\n",
      "|-107229.14641356701|\n",
      "|-20805.540958396043|\n",
      "| -41280.62814564741|\n",
      "| -100419.9955033815|\n",
      "| -70136.91864769114|\n",
      "|-107296.86110512674|\n",
      "|-101841.77386634814|\n",
      "|-157582.15175529965|\n",
      "|-44337.852193730476|\n",
      "| -42645.41607461218|\n",
      "|  -86968.2189656446|\n",
      "| -43496.45007687865|\n",
      "|-54945.826443584985|\n",
      "|-103096.89369958764|\n",
      "|-102065.85526528902|\n",
      "| -75885.17643575219|\n",
      "|-22563.653938805975|\n",
      "| -74073.92679707694|\n",
      "| -83549.25741300103|\n",
      "| -82274.79235590465|\n",
      "+-------------------+\n",
      "only showing top 20 rows\n",
      "\n",
      "Train RMSE: 67603.46298975957\n",
      "Train r2: 0.6544407103615614\n",
      "Coefficients: [-53413.97688102941,-53717.2305857711,13454.017707220415,6298.134352496961,2564.6018155392085,-45291.00283250605,41820.80235295144,78318.08912884528,6301.655136412218,16026.465291655324,17.616291556954103,-121331.44144643401,-156532.0924733863,-116428.59913364051,-125280.9469876201]\n",
      "Intercept: 338721.41988067946\n"
     ]
    }
   ],
   "source": [
    "from pyspark.ml.regression import LinearRegression\n",
    "\n",
    "lr = LinearRegression()\n",
    "\n",
    "lrModel = lr.fit(trainSet)\n",
    "trainingSummary = lrModel.summary\n",
    "\n",
    "print(f\"numIterations: {trainingSummary.totalIterations}\")   ## CHECK WHY ONLY 1 ITERTION !!!!!\n",
    "print(f\"objectiveHistory: {trainingSummary.objectiveHistory}\")\n",
    "trainingSummary.residuals.show()\n",
    "print(f\"Train RMSE: {trainingSummary.rootMeanSquaredError}\")\n",
    "print(f\"Train r2: {trainingSummary.r2}\")\n",
    "\n",
    "print(f\"Coefficients: {lrModel.coefficients}\")\n",
    "print(f\"Intercept: {lrModel.intercept}\")"
   ]
  },
  {
   "cell_type": "markdown",
   "metadata": {},
   "source": [
    "Now, use `RegressionEvaluator` to measure the root-mean-square-erroe (RMSE) of the model on the test dataset."
   ]
  },
  {
   "cell_type": "code",
   "execution_count": 38,
   "metadata": {},
   "outputs": [
    {
     "name": "stdout",
     "output_type": "stream",
     "text": [
      "+------------------+--------+--------------------+\n",
      "|        prediction|   label|            features|\n",
      "+------------------+--------+--------------------+\n",
      "|135727.72278051544| 68300.0|[-2.2960931881793...|\n",
      "|162923.34038962072|109400.0|[-2.2960931881793...|\n",
      "|157121.70868038066| 76900.0|[-2.2911020019242...|\n",
      "|104680.82836256246| 69500.0|[-2.2911020019242...|\n",
      "|130393.19926924375| 66800.0|[-2.2811196294140...|\n",
      "+------------------+--------+--------------------+\n",
      "only showing top 5 rows\n",
      "\n",
      "Root Mean Squared Error (RMSE) on test data = 69076.2\n"
     ]
    }
   ],
   "source": [
    "from pyspark.ml.evaluation import RegressionEvaluator\n",
    "\n",
    "predictions = lrModel.transform(testSet)\n",
    "predictions.select(\"prediction\", \"label\", \"features\").show(5)\n",
    "\n",
    "evaluator = RegressionEvaluator(labelCol=\"label\", predictionCol=\"prediction\", metricName=\"rmse\")\n",
    "rmse = evaluator.evaluate(predictions)\n",
    "print(\"Root Mean Squared Error (RMSE) on test data = %g\" % rmse)"
   ]
  },
  {
   "cell_type": "markdown",
   "metadata": {},
   "source": [
    "## 5.2. Decision tree regression\n",
    "Repeat what you have done on Regression Model to build a Decision Tree model. Use the `DecisionTreeRegressor` to make a model and then measure its RMSE on the test dataset."
   ]
  },
  {
   "cell_type": "code",
   "execution_count": 39,
   "metadata": {},
   "outputs": [
    {
     "name": "stdout",
     "output_type": "stream",
     "text": [
      "+------------------+--------+--------------------+\n",
      "|        prediction|   label|            features|\n",
      "+------------------+--------+--------------------+\n",
      "|136009.52380952382| 68300.0|[-2.2960931881793...|\n",
      "| 201717.3605059733|109400.0|[-2.2960931881793...|\n",
      "|136009.52380952382| 76900.0|[-2.2911020019242...|\n",
      "|143479.76205583755| 69500.0|[-2.2911020019242...|\n",
      "|136009.52380952382| 66800.0|[-2.2811196294140...|\n",
      "+------------------+--------+--------------------+\n",
      "only showing top 5 rows\n",
      "\n",
      "Root Mean Squared Error (RMSE) on test data = 68730.8\n"
     ]
    }
   ],
   "source": [
    "from pyspark.ml.regression import DecisionTreeRegressor\n",
    "from pyspark.ml.evaluation import RegressionEvaluator\n",
    "\n",
    "dt = DecisionTreeRegressor()\n",
    "dtModel = dt.fit(trainSet)\n",
    "\n",
    "predictions = dtModel.transform(testSet)\n",
    "predictions.select(\"prediction\", \"label\", \"features\").show(5)\n",
    "\n",
    "evaluator = RegressionEvaluator(labelCol=\"label\", predictionCol=\"prediction\", metricName=\"rmse\")\n",
    "rmse = evaluator.evaluate(predictions)\n",
    "print(\"Root Mean Squared Error (RMSE) on test data = %g\" % rmse)"
   ]
  },
  {
   "cell_type": "markdown",
   "metadata": {},
   "source": [
    "## 5.3. Random forest regression\n",
    "Let's try the test error on a Random Forest Model. Youcan use the `RandomForestRegressor` to make a Random Forest model."
   ]
  },
  {
   "cell_type": "code",
   "execution_count": 40,
   "metadata": {},
   "outputs": [
    {
     "name": "stdout",
     "output_type": "stream",
     "text": [
      "+------------------+--------+--------------------+\n",
      "|        prediction|   label|            features|\n",
      "+------------------+--------+--------------------+\n",
      "| 151654.6878749982| 68300.0|[-2.2960931881793...|\n",
      "|204972.55615037243|109400.0|[-2.2960931881793...|\n",
      "| 154127.4033989689| 76900.0|[-2.2911020019242...|\n",
      "|143084.80998519008| 69500.0|[-2.2911020019242...|\n",
      "| 154127.4033989689| 66800.0|[-2.2811196294140...|\n",
      "+------------------+--------+--------------------+\n",
      "only showing top 5 rows\n",
      "\n",
      "Root Mean Squared Error (RMSE) on test data = 67073.7\n"
     ]
    }
   ],
   "source": [
    "from pyspark.ml.regression import RandomForestRegressor\n",
    "from pyspark.ml.evaluation import RegressionEvaluator\n",
    "\n",
    "rf = RandomForestRegressor()\n",
    "rfModel = rf.fit(trainSet)\n",
    "\n",
    "predictions = rfModel.transform(testSet)\n",
    "predictions.select(\"prediction\", \"label\", \"features\").show(5)\n",
    "\n",
    "evaluator = RegressionEvaluator(labelCol=\"label\", predictionCol=\"prediction\", metricName=\"rmse\")\n",
    "rmse = evaluator.evaluate(predictions)\n",
    "print(\"Root Mean Squared Error (RMSE) on test data = %g\" % rmse)"
   ]
  },
  {
   "cell_type": "markdown",
   "metadata": {},
   "source": [
    "## 5.4. Gradient-boosted tree regression\n",
    "Fianlly, we want to build a Gradient-boosted Tree Regression model and test the RMSE of the test data. Use the `GBTRegressor` to build the model."
   ]
  },
  {
   "cell_type": "code",
   "execution_count": 41,
   "metadata": {},
   "outputs": [
    {
     "name": "stdout",
     "output_type": "stream",
     "text": [
      "+------------------+--------+--------------------+\n",
      "|        prediction|   label|            features|\n",
      "+------------------+--------+--------------------+\n",
      "| 83329.14239377546| 68300.0|[-2.2960931881793...|\n",
      "|133873.50650821248|109400.0|[-2.2960931881793...|\n",
      "| 85989.05465711399| 76900.0|[-2.2911020019242...|\n",
      "| 96436.42587214964| 69500.0|[-2.2911020019242...|\n",
      "| 93776.10577926389| 66800.0|[-2.2811196294140...|\n",
      "+------------------+--------+--------------------+\n",
      "only showing top 5 rows\n",
      "\n",
      "Root Mean Squared Error (RMSE) on test data = 56504.1\n"
     ]
    }
   ],
   "source": [
    "from pyspark.ml.regression import GBTRegressor\n",
    "from pyspark.ml.evaluation import RegressionEvaluator\n",
    "\n",
    "gb = GBTRegressor()\n",
    "gbModel = gb.fit(trainSet)\n",
    "\n",
    "predictions = gbModel.transform(testSet)\n",
    "predictions.select(\"prediction\", \"label\", \"features\").show(5)\n",
    "\n",
    "evaluator = RegressionEvaluator(labelCol=\"label\", predictionCol=\"prediction\", metricName=\"rmse\")\n",
    "rmse = evaluator.evaluate(predictions)\n",
    "print(\"Root Mean Squared Error (RMSE) on test data = %g\" % rmse)"
   ]
  },
  {
   "cell_type": "markdown",
   "metadata": {},
   "source": [
    "---\n",
    "# 6. Hyperparameter tuning\n",
    "An important task in Machine Learning is model selection, or using data to find the best model or parameters for a given task. This is also called tuning. Tuning may be done for individual Estimators such as LinearRegression, or for entire Pipelines which include multiple algorithms, featurization, and other steps. Users can tune an entire Pipeline at once, rather than tuning each element in the Pipeline separately. MLlib supports model selection tools, such as `CrossValidator`. These tools require the following items:\n",
    "* Estimator: algorithm or Pipeline to tune (`setEstimator`)\n",
    "* Set of ParamMaps: parameters to choose from, sometimes called a \"parameter grid\" to search over (`setEstimatorParamMaps`)\n",
    "* Evaluator: metric to measure how well a fitted Model does on held-out test data (`setEvaluator`)\n",
    "\n",
    "`CrossValidator` begins by splitting the dataset into a set of folds, which are used as separate training and test datasets. For example with `k=3` folds, `CrossValidator` will generate 3 (training, test) dataset pairs, each of which uses 2/3 of the data for training and 1/3 for testing. To evaluate a particular `ParamMap`, `CrossValidator` computes the average evaluation metric for the 3 Models produced by fitting the Estimator on the 3 different (training, test) dataset pairs. After identifying the best `ParamMap`, `CrossValidator` finally re-fits the Estimator using the best ParamMap and the entire dataset.\n",
    "\n",
    "Below, use the `CrossValidator` to select the best Random Forest model. To do so, you need to define a grid of parameters. Let's say we want to do the search among the different number of trees (1, 5, and 10), and different tree depth (5, 10, and 15)."
   ]
  },
  {
   "cell_type": "code",
   "execution_count": 42,
   "metadata": {},
   "outputs": [
    {
     "name": "stdout",
     "output_type": "stream",
     "text": [
      "+-----------------+--------+--------------------+\n",
      "|       prediction|   label|            features|\n",
      "+-----------------+--------+--------------------+\n",
      "|88087.27777777778| 68300.0|[-2.2960931881793...|\n",
      "|138805.1666666667|109400.0|[-2.2960931881793...|\n",
      "|78888.40196078431| 76900.0|[-2.2911020019242...|\n",
      "|81690.33333333333| 69500.0|[-2.2911020019242...|\n",
      "|79671.67857142857| 66800.0|[-2.2811196294140...|\n",
      "+-----------------+--------+--------------------+\n",
      "only showing top 5 rows\n",
      "\n",
      "Root Mean Squared Error (RMSE) on test data = 53798.9\n"
     ]
    }
   ],
   "source": [
    "from pyspark.ml.tuning import CrossValidator, ParamGridBuilder\n",
    "from pyspark.ml.evaluation import RegressionEvaluator\n",
    "from pyspark.ml.regression import RandomForestRegressor\n",
    "\n",
    "rf = RandomForestRegressor()\n",
    "\n",
    "paramGrid = ParamGridBuilder().addGrid(rf.numTrees, [1,5,10]).addGrid(rf.maxDepth, [5,10,15]).build()\n",
    "\n",
    "evaluator = RegressionEvaluator(labelCol=\"label\", predictionCol=\"prediction\", metricName=\"rmse\")\n",
    "cv = CrossValidator(estimator=rf, estimatorParamMaps=paramGrid, evaluator=evaluator, parallelism=2)\n",
    "cvModel = cv.fit(trainSet)\n",
    "\n",
    "predictions = cvModel.transform(testSet)\n",
    "predictions.select(\"prediction\", \"label\", \"features\").show(5)\n",
    "\n",
    "rmse = evaluator.evaluate(predictions)\n",
    "print(\"Root Mean Squared Error (RMSE) on test data = %g\" % rmse)"
   ]
  },
  {
   "cell_type": "markdown",
   "metadata": {},
   "source": [
    "---\n",
    "# 7. An End-to-End Classification Test\n",
    "As the last step, you are given a dataset called `data/ccdefault.csv`. The dataset represents default of credit card clients. It has 30,000 cases and 24 different attributes. More details about the dataset is available at `data/ccdefault.txt`. In this task you should make three models, compare their results and conclude the ideal solution. Here are the suggested steps:\n",
    "1. Load the data.\n",
    "2. Carry out some exploratory analyses (e.g., how various features and the target variable are distributed).\n",
    "3. Train a model to predict the target variable (risk of `default`).\n",
    "  - Employ three different models (logistic regression, decision tree, and random forest).\n",
    "  - Compare the models' performances (e.g., AUC).\n",
    "  - Defend your choice of best model (e.g., what are the strength and weaknesses of each of these models?).\n",
    "4. What more would you do with this data? Anything to help you devise a better solution?"
   ]
  },
  {
   "cell_type": "markdown",
   "metadata": {},
   "source": [
    "## 1. Load the data"
   ]
  },
  {
   "cell_type": "code",
   "execution_count": 83,
   "metadata": {},
   "outputs": [],
   "source": [
    "from pyspark.sql import SparkSession\n",
    "\n",
    "spark = SparkSession.builder.appName(\"Lab 1\").getOrCreate()\n",
    "\n",
    "filename = \"data/ccdefault.csv\"\n",
    "\n",
    "df = spark.read.csv(filename,header=True,inferSchema=True)"
   ]
  },
  {
   "cell_type": "markdown",
   "metadata": {},
   "source": [
    "## 2. Exploratory Data Analysis"
   ]
  },
  {
   "cell_type": "markdown",
   "metadata": {},
   "source": [
    "### Schema"
   ]
  },
  {
   "cell_type": "code",
   "execution_count": 84,
   "metadata": {},
   "outputs": [
    {
     "name": "stdout",
     "output_type": "stream",
     "text": [
      "root\n",
      " |-- ID: integer (nullable = true)\n",
      " |-- LIMIT_BAL: integer (nullable = true)\n",
      " |-- SEX: integer (nullable = true)\n",
      " |-- EDUCATION: integer (nullable = true)\n",
      " |-- MARRIAGE: integer (nullable = true)\n",
      " |-- AGE: integer (nullable = true)\n",
      " |-- PAY_0: integer (nullable = true)\n",
      " |-- PAY_2: integer (nullable = true)\n",
      " |-- PAY_3: integer (nullable = true)\n",
      " |-- PAY_4: integer (nullable = true)\n",
      " |-- PAY_5: integer (nullable = true)\n",
      " |-- PAY_6: integer (nullable = true)\n",
      " |-- BILL_AMT1: integer (nullable = true)\n",
      " |-- BILL_AMT2: integer (nullable = true)\n",
      " |-- BILL_AMT3: integer (nullable = true)\n",
      " |-- BILL_AMT4: integer (nullable = true)\n",
      " |-- BILL_AMT5: integer (nullable = true)\n",
      " |-- BILL_AMT6: integer (nullable = true)\n",
      " |-- PAY_AMT1: integer (nullable = true)\n",
      " |-- PAY_AMT2: integer (nullable = true)\n",
      " |-- PAY_AMT3: integer (nullable = true)\n",
      " |-- PAY_AMT4: integer (nullable = true)\n",
      " |-- PAY_AMT5: integer (nullable = true)\n",
      " |-- PAY_AMT6: integer (nullable = true)\n",
      " |-- DEFAULT: integer (nullable = true)\n",
      "\n"
     ]
    }
   ],
   "source": [
    "df.printSchema()"
   ]
  },
  {
   "cell_type": "markdown",
   "metadata": {},
   "source": [
    "### Show Dataframe"
   ]
  },
  {
   "cell_type": "code",
   "execution_count": 85,
   "metadata": {},
   "outputs": [],
   "source": [
    "# col 'LIMIT_BAL' is money (first column in the dataframe)\n",
    "nonMoneyFeatures = ['SEX','EDUCATION','MARRIAGE','AGE']\n",
    "pastPayments = ['PAY_0','PAY_2','PAY_3','PAY_4','PAY_5','PAY_6']\n",
    "billStatement = ['BILL_AMT1','BILL_AMT2','BILL_AMT3','BILL_AMT4','BILL_AMT5','BILL_AMT6']\n",
    "prevPayment = ['PAY_AMT1','PAY_AMT2','PAY_AMT3','PAY_AMT4','PAY_AMT5','PAY_AMT6']"
   ]
  },
  {
   "cell_type": "markdown",
   "metadata": {},
   "source": [
    "#### Non money-related attributes"
   ]
  },
  {
   "cell_type": "code",
   "execution_count": 86,
   "metadata": {},
   "outputs": [
    {
     "name": "stdout",
     "output_type": "stream",
     "text": [
      "+---------+---+---------+--------+---+\n",
      "|LIMIT_BAL|SEX|EDUCATION|MARRIAGE|AGE|\n",
      "+---------+---+---------+--------+---+\n",
      "|    20000|  2|        2|       1| 24|\n",
      "|   120000|  2|        2|       2| 26|\n",
      "|    90000|  2|        2|       2| 34|\n",
      "|    50000|  2|        2|       1| 37|\n",
      "|    50000|  1|        2|       1| 57|\n",
      "+---------+---+---------+--------+---+\n",
      "only showing top 5 rows\n",
      "\n"
     ]
    }
   ],
   "source": [
    "df.select(['LIMIT_BAL']+nonMoneyFeatures).show(5)"
   ]
  },
  {
   "cell_type": "markdown",
   "metadata": {},
   "source": [
    "#### History of past payment"
   ]
  },
  {
   "cell_type": "code",
   "execution_count": 87,
   "metadata": {},
   "outputs": [
    {
     "name": "stdout",
     "output_type": "stream",
     "text": [
      "+-----+-----+-----+-----+-----+-----+\n",
      "|PAY_0|PAY_2|PAY_3|PAY_4|PAY_5|PAY_6|\n",
      "+-----+-----+-----+-----+-----+-----+\n",
      "|    2|    2|   -1|   -1|   -2|   -2|\n",
      "|   -1|    2|    0|    0|    0|    2|\n",
      "|    0|    0|    0|    0|    0|    0|\n",
      "|    0|    0|    0|    0|    0|    0|\n",
      "|   -1|    0|   -1|    0|    0|    0|\n",
      "+-----+-----+-----+-----+-----+-----+\n",
      "only showing top 5 rows\n",
      "\n"
     ]
    }
   ],
   "source": [
    "df.select(pastPayments).show(5)"
   ]
  },
  {
   "cell_type": "markdown",
   "metadata": {},
   "source": [
    "#### Amount of bill statement (NT dollar)"
   ]
  },
  {
   "cell_type": "code",
   "execution_count": 88,
   "metadata": {},
   "outputs": [
    {
     "name": "stdout",
     "output_type": "stream",
     "text": [
      "+---------+---------+---------+---------+---------+---------+\n",
      "|BILL_AMT1|BILL_AMT2|BILL_AMT3|BILL_AMT4|BILL_AMT5|BILL_AMT6|\n",
      "+---------+---------+---------+---------+---------+---------+\n",
      "|     3913|     3102|      689|        0|        0|        0|\n",
      "|     2682|     1725|     2682|     3272|     3455|     3261|\n",
      "|    29239|    14027|    13559|    14331|    14948|    15549|\n",
      "|    46990|    48233|    49291|    28314|    28959|    29547|\n",
      "|     8617|     5670|    35835|    20940|    19146|    19131|\n",
      "+---------+---------+---------+---------+---------+---------+\n",
      "only showing top 5 rows\n",
      "\n"
     ]
    }
   ],
   "source": [
    "df.select(billStatement).show(5)"
   ]
  },
  {
   "cell_type": "markdown",
   "metadata": {},
   "source": [
    "#### Amount of previous payment (NT dollar)"
   ]
  },
  {
   "cell_type": "code",
   "execution_count": 89,
   "metadata": {},
   "outputs": [
    {
     "name": "stdout",
     "output_type": "stream",
     "text": [
      "+--------+--------+--------+--------+--------+--------+\n",
      "|PAY_AMT1|PAY_AMT2|PAY_AMT3|PAY_AMT4|PAY_AMT5|PAY_AMT6|\n",
      "+--------+--------+--------+--------+--------+--------+\n",
      "|       0|     689|       0|       0|       0|       0|\n",
      "|       0|    1000|    1000|    1000|       0|    2000|\n",
      "|    1518|    1500|    1000|    1000|    1000|    5000|\n",
      "|    2000|    2019|    1200|    1100|    1069|    1000|\n",
      "|    2000|   36681|   10000|    9000|     689|     679|\n",
      "+--------+--------+--------+--------+--------+--------+\n",
      "only showing top 5 rows\n",
      "\n"
     ]
    }
   ],
   "source": [
    "df.select(prevPayment).show(5)"
   ]
  },
  {
   "cell_type": "markdown",
   "metadata": {},
   "source": [
    "### Count"
   ]
  },
  {
   "cell_type": "code",
   "execution_count": 90,
   "metadata": {},
   "outputs": [
    {
     "data": {
      "text/plain": [
       "30000"
      ]
     },
     "execution_count": 90,
     "metadata": {},
     "output_type": "execute_result"
    }
   ],
   "source": [
    "df.count()"
   ]
  },
  {
   "cell_type": "markdown",
   "metadata": {},
   "source": [
    "### Statistical Properties of PySpark Dataframe"
   ]
  },
  {
   "cell_type": "markdown",
   "metadata": {},
   "source": [
    "#### Non money-related attributes"
   ]
  },
  {
   "cell_type": "code",
   "execution_count": 91,
   "metadata": {
    "scrolled": true
   },
   "outputs": [
    {
     "name": "stdout",
     "output_type": "stream",
     "text": [
      "+-------+------------------+------------------+------------------+-----------------+\n",
      "|summary|               SEX|         EDUCATION|          MARRIAGE|              AGE|\n",
      "+-------+------------------+------------------+------------------+-----------------+\n",
      "|  count|             30000|             30000|             30000|            30000|\n",
      "|   mean|1.6037333333333332|1.8531333333333333|1.5518666666666667|          35.4855|\n",
      "| stddev|0.4891291960902602|0.7903486597207269|0.5219696006132467|9.217904068090155|\n",
      "|    min|                 1|                 0|                 0|               21|\n",
      "|    max|                 2|                 6|                 3|               79|\n",
      "+-------+------------------+------------------+------------------+-----------------+\n",
      "\n"
     ]
    }
   ],
   "source": [
    "df.describe(nonMoneyFeatures).show()"
   ]
  },
  {
   "cell_type": "markdown",
   "metadata": {},
   "source": [
    "#### History of past payments"
   ]
  },
  {
   "cell_type": "code",
   "execution_count": 92,
   "metadata": {},
   "outputs": [
    {
     "name": "stdout",
     "output_type": "stream",
     "text": [
      "+-------+------------------+--------------------+------------------+--------------------+------------------+-----------------+\n",
      "|summary|             PAY_0|               PAY_2|             PAY_3|               PAY_4|             PAY_5|            PAY_6|\n",
      "+-------+------------------+--------------------+------------------+--------------------+------------------+-----------------+\n",
      "|  count|             30000|               30000|             30000|               30000|             30000|            30000|\n",
      "|   mean|           -0.0167|-0.13376666666666667|           -0.1662|-0.22066666666666668|           -0.2662|          -0.2911|\n",
      "| stddev|1.1238015279973335|  1.1971859730345495|1.1968675684465686|  1.1691386224023357|1.1331874060027525|1.149987625607897|\n",
      "|    min|                -2|                  -2|                -2|                  -2|                -2|               -2|\n",
      "|    max|                 8|                   8|                 8|                   8|                 8|                8|\n",
      "+-------+------------------+--------------------+------------------+--------------------+------------------+-----------------+\n",
      "\n"
     ]
    }
   ],
   "source": [
    "df.describe(pastPayments).show()"
   ]
  },
  {
   "cell_type": "markdown",
   "metadata": {},
   "source": [
    "#### Amount of bill statement (NT dollar)"
   ]
  },
  {
   "cell_type": "code",
   "execution_count": 93,
   "metadata": {},
   "outputs": [
    {
     "name": "stdout",
     "output_type": "stream",
     "text": [
      "+-------+-----------------+-----------------+-----------------+------------------+-----------------+----------------+\n",
      "|summary|        BILL_AMT1|        BILL_AMT2|        BILL_AMT3|         BILL_AMT4|        BILL_AMT5|       BILL_AMT6|\n",
      "+-------+-----------------+-----------------+-----------------+------------------+-----------------+----------------+\n",
      "|  count|            30000|            30000|            30000|             30000|            30000|           30000|\n",
      "|   mean|       51223.3309|49179.07516666667|       47013.1548| 43262.94896666666|40311.40096666667|      38871.7604|\n",
      "| stddev|73635.86057552966|71173.76878252832|69349.38742703677|64332.856133916444|60797.15577026471|59554.1075367459|\n",
      "|    min|          -165580|           -69777|          -157264|           -170000|           -81334|         -339603|\n",
      "|    max|           964511|           983931|          1664089|            891586|           927171|          961664|\n",
      "+-------+-----------------+-----------------+-----------------+------------------+-----------------+----------------+\n",
      "\n"
     ]
    }
   ],
   "source": [
    "df.describe(billStatement).show()"
   ]
  },
  {
   "cell_type": "markdown",
   "metadata": {},
   "source": [
    "#### Amount of previous payment (NT dollar)"
   ]
  },
  {
   "cell_type": "code",
   "execution_count": 94,
   "metadata": {
    "scrolled": true
   },
   "outputs": [
    {
     "name": "stdout",
     "output_type": "stream",
     "text": [
      "+-------+-----------------+------------------+-----------------+------------------+------------------+-----------------+\n",
      "|summary|         PAY_AMT1|          PAY_AMT2|         PAY_AMT3|          PAY_AMT4|          PAY_AMT5|         PAY_AMT6|\n",
      "+-------+-----------------+------------------+-----------------+------------------+------------------+-----------------+\n",
      "|  count|            30000|             30000|            30000|             30000|             30000|            30000|\n",
      "|   mean|        5663.5805|         5921.1635|        5225.6815| 4826.076866666666| 4799.387633333334|5215.502566666667|\n",
      "| stddev|16563.28035402577|23040.870402057186|17606.96146980311|15666.159744032062|15278.305679144742|17777.46577543531|\n",
      "|    min|                0|                 0|                0|                 0|                 0|                0|\n",
      "|    max|           873552|           1684259|           896040|            621000|            426529|           528666|\n",
      "+-------+-----------------+------------------+-----------------+------------------+------------------+-----------------+\n",
      "\n"
     ]
    }
   ],
   "source": [
    "df.describe(prevPayment).show()"
   ]
  },
  {
   "cell_type": "markdown",
   "metadata": {},
   "source": [
    "### Count the missing values in a column of PySpark Dataframe"
   ]
  },
  {
   "cell_type": "code",
   "execution_count": 95,
   "metadata": {},
   "outputs": [
    {
     "name": "stdout",
     "output_type": "stream",
     "text": [
      "ID \t with null values:  0\n",
      "LIMIT_BAL \t with null values:  0\n",
      "SEX \t with null values:  0\n",
      "EDUCATION \t with null values:  0\n",
      "MARRIAGE \t with null values:  0\n",
      "AGE \t with null values:  0\n",
      "PAY_0 \t with null values:  0\n",
      "PAY_2 \t with null values:  0\n",
      "PAY_3 \t with null values:  0\n",
      "PAY_4 \t with null values:  0\n",
      "PAY_5 \t with null values:  0\n",
      "PAY_6 \t with null values:  0\n",
      "BILL_AMT1 \t with null values:  0\n",
      "BILL_AMT2 \t with null values:  0\n",
      "BILL_AMT3 \t with null values:  0\n",
      "BILL_AMT4 \t with null values:  0\n",
      "BILL_AMT5 \t with null values:  0\n",
      "BILL_AMT6 \t with null values:  0\n",
      "PAY_AMT1 \t with null values:  0\n",
      "PAY_AMT2 \t with null values:  0\n",
      "PAY_AMT3 \t with null values:  0\n",
      "PAY_AMT4 \t with null values:  0\n",
      "PAY_AMT5 \t with null values:  0\n",
      "PAY_AMT6 \t with null values:  0\n",
      "DEFAULT \t with null values:  0\n"
     ]
    }
   ],
   "source": [
    "for col in df.columns:\n",
    "    print(col, \"\\t\", \"with null values: \", df.filter(df[col].isNull()).count())"
   ]
  },
  {
   "cell_type": "markdown",
   "metadata": {},
   "source": [
    "### Checking for correlation"
   ]
  },
  {
   "cell_type": "markdown",
   "metadata": {},
   "source": [
    "#### Among the non money-related columns"
   ]
  },
  {
   "cell_type": "code",
   "execution_count": 96,
   "metadata": {},
   "outputs": [
    {
     "name": "stdout",
     "output_type": "stream",
     "text": [
      "+---+---------+--------+---+------------------+\n",
      "|SEX|EDUCATION|MARRIAGE|AGE|        attributes|\n",
      "+---+---------+--------+---+------------------+\n",
      "|  2|        2|       1| 24|[2.0,2.0,1.0,24.0]|\n",
      "|  2|        2|       2| 26|[2.0,2.0,2.0,26.0]|\n",
      "|  2|        2|       2| 34|[2.0,2.0,2.0,34.0]|\n",
      "|  2|        2|       1| 37|[2.0,2.0,1.0,37.0]|\n",
      "|  1|        2|       1| 57|[1.0,2.0,1.0,57.0]|\n",
      "+---+---------+--------+---+------------------+\n",
      "only showing top 5 rows\n",
      "\n",
      "Pearson correlation matrix:\n",
      "DenseMatrix([[ 1.        ,  0.01423194, -0.03138884, -0.09087365],\n",
      "             [ 0.01423194,  1.        , -0.14346434,  0.17506066],\n",
      "             [-0.03138884, -0.14346434,  1.        , -0.41416992],\n",
      "             [-0.09087365,  0.17506066, -0.41416992,  1.        ]])\n"
     ]
    }
   ],
   "source": [
    "import numpy as np\n",
    "from pyspark.ml.stat import Correlation\n",
    "from pyspark.ml.feature import VectorAssembler\n",
    "\n",
    "va = VectorAssembler(inputCols=nonMoneyFeatures,outputCol='attributes')\n",
    "df_assembled = va.transform(df)\n",
    "df_assembled.select(nonMoneyFeatures + ['attributes']).show(5)\n",
    "\n",
    "coeff = Correlation.corr(df_assembled, \"attributes\").head()\n",
    "print(\"Pearson correlation matrix:\\n\" + str(coeff[0]))"
   ]
  },
  {
   "cell_type": "markdown",
   "metadata": {},
   "source": [
    "#### Among history of past payments (* alarming state of correlation)"
   ]
  },
  {
   "cell_type": "code",
   "execution_count": 97,
   "metadata": {},
   "outputs": [
    {
     "name": "stdout",
     "output_type": "stream",
     "text": [
      "+-----+-----+-----+-----+-----+-----+--------------------+\n",
      "|PAY_0|PAY_2|PAY_3|PAY_4|PAY_5|PAY_6|          attributes|\n",
      "+-----+-----+-----+-----+-----+-----+--------------------+\n",
      "|    2|    2|   -1|   -1|   -2|   -2|[2.0,2.0,-1.0,-1....|\n",
      "|   -1|    2|    0|    0|    0|    2|[-1.0,2.0,0.0,0.0...|\n",
      "|    0|    0|    0|    0|    0|    0|           (6,[],[])|\n",
      "|    0|    0|    0|    0|    0|    0|           (6,[],[])|\n",
      "|   -1|    0|   -1|    0|    0|    0|(6,[0,2],[-1.0,-1...|\n",
      "+-----+-----+-----+-----+-----+-----+--------------------+\n",
      "only showing top 5 rows\n",
      "\n",
      "Pearson correlation matrix:\n",
      "DenseMatrix([[1.        , 0.67216438, 0.57424509, 0.53884063, 0.50942606,\n",
      "              0.47455309],\n",
      "             [0.67216438, 1.        , 0.76655168, 0.66206713, 0.62278025,\n",
      "              0.57550086],\n",
      "             [0.57424509, 0.76655168, 1.        , 0.77735887, 0.68677451,\n",
      "              0.63268359],\n",
      "             [0.53884063, 0.66206713, 0.77735887, 1.        , 0.81983531,\n",
      "              0.71644948],\n",
      "             [0.50942606, 0.62278025, 0.68677451, 0.81983531, 1.        ,\n",
      "              0.81690016],\n",
      "             [0.47455309, 0.57550086, 0.63268359, 0.71644948, 0.81690016,\n",
      "              1.        ]])\n"
     ]
    }
   ],
   "source": [
    "import numpy as np\n",
    "from pyspark.ml.stat import Correlation\n",
    "from pyspark.ml.feature import VectorAssembler\n",
    "\n",
    "va = VectorAssembler(inputCols=pastPayments,outputCol='attributes')\n",
    "df_assembled = va.transform(df)\n",
    "df_assembled.select(pastPayments + ['attributes']).show(5)\n",
    "\n",
    "coeff = Correlation.corr(df_assembled, \"attributes\").head()\n",
    "print(\"Pearson correlation matrix:\\n\" + str(coeff[0]))"
   ]
  },
  {
   "cell_type": "markdown",
   "metadata": {},
   "source": [
    "##### Among bill statements (*more alarming state of correlation)"
   ]
  },
  {
   "cell_type": "code",
   "execution_count": 98,
   "metadata": {},
   "outputs": [
    {
     "name": "stdout",
     "output_type": "stream",
     "text": [
      "+---------+---------+---------+---------+---------+---------+--------------------+\n",
      "|BILL_AMT1|BILL_AMT2|BILL_AMT3|BILL_AMT4|BILL_AMT5|BILL_AMT6|          attributes|\n",
      "+---------+---------+---------+---------+---------+---------+--------------------+\n",
      "|     3913|     3102|      689|        0|        0|        0|[3913.0,3102.0,68...|\n",
      "|     2682|     1725|     2682|     3272|     3455|     3261|[2682.0,1725.0,26...|\n",
      "|    29239|    14027|    13559|    14331|    14948|    15549|[29239.0,14027.0,...|\n",
      "|    46990|    48233|    49291|    28314|    28959|    29547|[46990.0,48233.0,...|\n",
      "|     8617|     5670|    35835|    20940|    19146|    19131|[8617.0,5670.0,35...|\n",
      "+---------+---------+---------+---------+---------+---------+--------------------+\n",
      "only showing top 5 rows\n",
      "\n",
      "Pearson correlation matrix:\n",
      "DenseMatrix([[1.        , 0.95148367, 0.89227853, 0.86027219, 0.82977861,\n",
      "              0.80265019],\n",
      "             [0.95148367, 1.        , 0.92832626, 0.89248229, 0.85977831,\n",
      "              0.83159356],\n",
      "             [0.89227853, 0.92832626, 1.        , 0.92396946, 0.8839097 ,\n",
      "              0.85332009],\n",
      "             [0.86027219, 0.89248229, 0.92396946, 1.        , 0.9401344 ,\n",
      "              0.90094095],\n",
      "             [0.82977861, 0.85977831, 0.8839097 , 0.9401344 , 1.        ,\n",
      "              0.94619681],\n",
      "             [0.80265019, 0.83159356, 0.85332009, 0.90094095, 0.94619681,\n",
      "              1.        ]])\n"
     ]
    }
   ],
   "source": [
    "import numpy as np\n",
    "from pyspark.ml.stat import Correlation\n",
    "from pyspark.ml.feature import VectorAssembler\n",
    "\n",
    "va = VectorAssembler(inputCols=billStatement,outputCol='attributes')\n",
    "df_assembled = va.transform(df)\n",
    "df_assembled.select(billStatement + ['attributes']).show(5)\n",
    "\n",
    "coeff = Correlation.corr(df_assembled, \"attributes\").head()\n",
    "print(\"Pearson correlation matrix:\\n\" + str(coeff[0]))"
   ]
  },
  {
   "cell_type": "markdown",
   "metadata": {},
   "source": [
    "#### Among previous payments"
   ]
  },
  {
   "cell_type": "code",
   "execution_count": 99,
   "metadata": {},
   "outputs": [
    {
     "name": "stdout",
     "output_type": "stream",
     "text": [
      "+--------+--------+--------+--------+--------+--------+--------------------+\n",
      "|PAY_AMT1|PAY_AMT2|PAY_AMT3|PAY_AMT4|PAY_AMT5|PAY_AMT6|          attributes|\n",
      "+--------+--------+--------+--------+--------+--------+--------------------+\n",
      "|       0|     689|       0|       0|       0|       0|     (6,[1],[689.0])|\n",
      "|       0|    1000|    1000|    1000|       0|    2000|[0.0,1000.0,1000....|\n",
      "|    1518|    1500|    1000|    1000|    1000|    5000|[1518.0,1500.0,10...|\n",
      "|    2000|    2019|    1200|    1100|    1069|    1000|[2000.0,2019.0,12...|\n",
      "|    2000|   36681|   10000|    9000|     689|     679|[2000.0,36681.0,1...|\n",
      "+--------+--------+--------+--------+--------+--------+--------------------+\n",
      "only showing top 5 rows\n",
      "\n",
      "Pearson correlation matrix:\n",
      "DenseMatrix([[1.        , 0.28557553, 0.25219114, 0.19955793, 0.14845928,\n",
      "              0.18573526],\n",
      "             [0.28557553, 1.        , 0.24477045, 0.18010674, 0.18090775,\n",
      "              0.15763392],\n",
      "             [0.25219114, 0.24477045, 1.        , 0.21632509, 0.15921372,\n",
      "              0.16274003],\n",
      "             [0.19955793, 0.18010674, 0.21632509, 1.        , 0.15183044,\n",
      "              0.15783392],\n",
      "             [0.14845928, 0.18090775, 0.15921372, 0.15183044, 1.        ,\n",
      "              0.15489553],\n",
      "             [0.18573526, 0.15763392, 0.16274003, 0.15783392, 0.15489553,\n",
      "              1.        ]])\n"
     ]
    }
   ],
   "source": [
    "import numpy as np\n",
    "from pyspark.ml.stat import Correlation\n",
    "from pyspark.ml.feature import VectorAssembler\n",
    "\n",
    "va = VectorAssembler(inputCols=prevPayment,outputCol='attributes')\n",
    "df_assembled = va.transform(df)\n",
    "df_assembled.select(prevPayment + ['attributes']).show(5)\n",
    "\n",
    "coeff = Correlation.corr(df_assembled, \"attributes\").head()\n",
    "print(\"Pearson correlation matrix:\\n\" + str(coeff[0]))"
   ]
  },
  {
   "cell_type": "markdown",
   "metadata": {},
   "source": [
    "### Scaling the monetary numbers to similar ranges"
   ]
  },
  {
   "cell_type": "code",
   "execution_count": 100,
   "metadata": {},
   "outputs": [
    {
     "name": "stdout",
     "output_type": "stream",
     "text": [
      "+----------------------------+\n",
      "|scaledAssembledMoneyFeatures|\n",
      "+----------------------------+\n",
      "|        [-1.1367012005089...|\n",
      "|        [-0.3659744005642...|\n",
      "|        [-0.5971924405476...|\n",
      "|        [-0.9054831605255...|\n",
      "|        [-0.9054831605255...|\n",
      "+----------------------------+\n",
      "only showing top 5 rows\n",
      "\n"
     ]
    }
   ],
   "source": [
    "from pyspark.ml.feature import VectorAssembler,StandardScaler\n",
    "\n",
    "money_cols = ['LIMIT_BAL']+pastPayments+billStatement+prevPayment\n",
    "va = VectorAssembler(inputCols=money_cols,outputCol='assembledMoneyFeatures')\n",
    "df_assembled = va.transform(df)\n",
    "\n",
    "scaler = StandardScaler(inputCol=\"assembledMoneyFeatures\", outputCol=\"scaledAssembledMoneyFeatures\", withStd=True, withMean=True)\n",
    "df_moneyScaled = scaler.fit(df_assembled).transform(df_assembled).drop('assembledMoneyFeatures')\n",
    "df_moneyScaled.select('scaledAssembledMoneyFeatures').show(5)"
   ]
  },
  {
   "cell_type": "markdown",
   "metadata": {},
   "source": [
    "### Preparing features and labels for Machine Learning models"
   ]
  },
  {
   "cell_type": "code",
   "execution_count": 101,
   "metadata": {},
   "outputs": [
    {
     "name": "stdout",
     "output_type": "stream",
     "text": [
      "+------------------+\n",
      "|  nonMoneyFeatures|\n",
      "+------------------+\n",
      "|[2.0,2.0,1.0,24.0]|\n",
      "|[2.0,2.0,2.0,26.0]|\n",
      "|[2.0,2.0,2.0,34.0]|\n",
      "|[2.0,2.0,1.0,37.0]|\n",
      "|[1.0,2.0,1.0,57.0]|\n",
      "+------------------+\n",
      "only showing top 5 rows\n",
      "\n"
     ]
    }
   ],
   "source": [
    "from pyspark.ml.feature import VectorAssembler,StandardScaler\n",
    "\n",
    "va = VectorAssembler(inputCols=nonMoneyFeatures,outputCol='nonMoneyFeatures')\n",
    "dataset = va.transform(df_moneyScaled)\n",
    "\n",
    "dataset.select(\"nonMoneyFeatures\").show(5)"
   ]
  },
  {
   "cell_type": "code",
   "execution_count": 102,
   "metadata": {},
   "outputs": [
    {
     "name": "stdout",
     "output_type": "stream",
     "text": [
      "+--------------------+-----+\n",
      "|            features|label|\n",
      "+--------------------+-----+\n",
      "|[2.0,2.0,1.0,24.0...|    1|\n",
      "|[2.0,2.0,2.0,26.0...|    1|\n",
      "|[2.0,2.0,2.0,34.0...|    0|\n",
      "|[2.0,2.0,1.0,37.0...|    0|\n",
      "|[1.0,2.0,1.0,57.0...|    0|\n",
      "+--------------------+-----+\n",
      "only showing top 5 rows\n",
      "\n"
     ]
    }
   ],
   "source": [
    "va = VectorAssembler(inputCols=['nonMoneyFeatures', 'scaledAssembledMoneyFeatures'],outputCol='features')\n",
    "dataset = va.transform(dataset)\n",
    "dataset = dataset.withColumnRenamed('DEFAULT','label')\n",
    "\n",
    "dataset.select(\"features\", \"label\").show(5)"
   ]
  },
  {
   "cell_type": "markdown",
   "metadata": {},
   "source": [
    "### Split into train (80%) and test (20%)"
   ]
  },
  {
   "cell_type": "code",
   "execution_count": 103,
   "metadata": {},
   "outputs": [
    {
     "name": "stdout",
     "output_type": "stream",
     "text": [
      "Training set: 24092\n",
      "Testing set: 5908\n"
     ]
    }
   ],
   "source": [
    "training, test = dataset.randomSplit([0.8, 0.2])\n",
    "print(\"Training set:\",training.count())\n",
    "print(\"Testing set:\",test.count())"
   ]
  },
  {
   "cell_type": "markdown",
   "metadata": {},
   "source": [
    "### 3. Machine Learning Models\n",
    "\n",
    "Employ three different models (logistic regression, decision tree, and random forest).\n",
    "\n",
    "Compare the models' performances (e.g., AUC).\n",
    "\n",
    "Defend your choice of best model (e.g., what are the strength and weaknesses of each of these models?).\n",
    "\n",
    "What more would you do with this data? Anything to help you devise a better solution?"
   ]
  },
  {
   "cell_type": "markdown",
   "metadata": {},
   "source": [
    "#### 1. logistic regression"
   ]
  },
  {
   "cell_type": "code",
   "execution_count": 105,
   "metadata": {},
   "outputs": [
    {
     "name": "stdout",
     "output_type": "stream",
     "text": [
      "+----------+-----+--------------------+\n",
      "|prediction|label|            features|\n",
      "+----------+-----+--------------------+\n",
      "|       0.0|    1|[2.0,2.0,1.0,24.0...|\n",
      "|       0.0|    1|[2.0,2.0,2.0,26.0...|\n",
      "|       0.0|    0|[1.0,1.0,2.0,29.0...|\n",
      "|       0.0|    0|[2.0,2.0,2.0,23.0...|\n",
      "|       0.0|    0|[2.0,3.0,3.0,23.0...|\n",
      "+----------+-----+--------------------+\n",
      "only showing top 5 rows\n",
      "\n",
      "Accuracy: 0.8108500747135978\n",
      "FPR: 0.6026546167989388\n",
      "TPR: 0.8108500747135978\n",
      "F-measure: 0.7708984162649318\n",
      "Precision: 0.7963149441774864\n",
      "Recall: 0.8108500747135978\n",
      "auROC: 0.7210958314838776\n"
     ]
    }
   ],
   "source": [
    "from pyspark.ml.classification import LogisticRegression\n",
    "\n",
    "lr = LogisticRegression()\n",
    "lrModel = lr.fit(training)\n",
    "\n",
    "predictions = lrModel.transform(test).select(\"prediction\", \"label\", \"features\")\n",
    "predictions.show(5)\n",
    "\n",
    "trainingSummary = lrModel.summary\n",
    "\n",
    "accuracy = trainingSummary.accuracy\n",
    "falsePositiveRate = trainingSummary.weightedFalsePositiveRate\n",
    "truePositiveRate = trainingSummary.weightedTruePositiveRate\n",
    "fMeasure = trainingSummary.weightedFMeasure()\n",
    "precision = trainingSummary.weightedPrecision\n",
    "recall = trainingSummary.weightedRecall\n",
    "auROC = trainingSummary.areaUnderROC\n",
    "print(\"Accuracy: %s\\nFPR: %s\\nTPR: %s\\nF-measure: %s\\nPrecision: %s\\nRecall: %s\\nauROC: %s\"\n",
    "      % (accuracy, falsePositiveRate, truePositiveRate, fMeasure, precision, recall, auROC))"
   ]
  },
  {
   "cell_type": "markdown",
   "metadata": {},
   "source": [
    "#### 2. decision tree"
   ]
  },
  {
   "cell_type": "code",
   "execution_count": 106,
   "metadata": {
    "scrolled": true
   },
   "outputs": [
    {
     "name": "stdout",
     "output_type": "stream",
     "text": [
      "+----------+-----+--------------------+\n",
      "|prediction|label|            features|\n",
      "+----------+-----+--------------------+\n",
      "|       1.0|    1|[2.0,2.0,1.0,24.0...|\n",
      "|       1.0|    1|[2.0,2.0,2.0,26.0...|\n",
      "|       0.0|    0|[1.0,1.0,2.0,29.0...|\n",
      "|       0.0|    0|[2.0,2.0,2.0,23.0...|\n",
      "|       0.0|    0|[2.0,3.0,3.0,23.0...|\n",
      "+----------+-----+--------------------+\n",
      "only showing top 5 rows\n",
      "\n",
      "Accuracy: 0.8226134055517942\n",
      "FPR: 0.8226134055517942\n",
      "TPR: 0.5014725735656529\n",
      "F-measure: 0.8010458822761062\n",
      "Precision: 0.8072160610154474\n",
      "Recall: 0.8226134055517942\n",
      "auROC: 0.6605704159930705\n"
     ]
    }
   ],
   "source": [
    "from pyspark.ml.classification import DecisionTreeClassifier\n",
    "from pyspark.ml.evaluation import BinaryClassificationEvaluator\n",
    "from pyspark.ml.evaluation import MulticlassClassificationEvaluator\n",
    "\n",
    "dt = DecisionTreeClassifier()\n",
    "dtModel = dt.fit(training)\n",
    "\n",
    "predictions = dtModel.transform(test).select(\"prediction\", \"label\", \"features\")\n",
    "predictions.show(5)\n",
    "\n",
    "accuracy = MulticlassClassificationEvaluator(metricName=\"accuracy\").evaluate(predictions)\n",
    "falsePositiveRate = MulticlassClassificationEvaluator(metricName=\"weightedTruePositiveRate\").evaluate(predictions)\n",
    "truePositiveRate = MulticlassClassificationEvaluator(metricName=\"weightedFalsePositiveRate\").evaluate(predictions)\n",
    "fMeasure = MulticlassClassificationEvaluator(metricName=\"weightedFMeasure\").evaluate(predictions) # \n",
    "precision = MulticlassClassificationEvaluator(metricName=\"weightedPrecision\").evaluate(predictions)\n",
    "recall = MulticlassClassificationEvaluator(metricName=\"weightedRecall\").evaluate(predictions)\n",
    "auROC = BinaryClassificationEvaluator(rawPredictionCol='prediction').evaluate(predictions)\n",
    "\n",
    "print(\"Accuracy: %s\\nFPR: %s\\nTPR: %s\\nF-measure: %s\\nPrecision: %s\\nRecall: %s\\nauROC: %s\"\n",
    "      % (accuracy, falsePositiveRate, truePositiveRate, fMeasure, precision, recall, auROC))"
   ]
  },
  {
   "cell_type": "markdown",
   "metadata": {},
   "source": [
    "#### 3. random forest"
   ]
  },
  {
   "cell_type": "code",
   "execution_count": 107,
   "metadata": {},
   "outputs": [
    {
     "name": "stdout",
     "output_type": "stream",
     "text": [
      "+----------+-----+--------------------+\n",
      "|prediction|label|            features|\n",
      "+----------+-----+--------------------+\n",
      "|       1.0|    1|[2.0,2.0,1.0,24.0...|\n",
      "|       0.0|    1|[2.0,2.0,2.0,26.0...|\n",
      "|       0.0|    0|[1.0,1.0,2.0,29.0...|\n",
      "|       0.0|    0|[2.0,2.0,2.0,23.0...|\n",
      "|       0.0|    0|[2.0,3.0,3.0,23.0...|\n",
      "+----------+-----+--------------------+\n",
      "only showing top 5 rows\n",
      "\n",
      "Accuracy: 0.8209207853757616\n",
      "FPR: 0.8209207853757617\n",
      "TPR: 0.5198069964105043\n",
      "F-measure: 0.7962858970701344\n",
      "Precision: 0.8056767297674514\n",
      "Recall: 0.8209207853757617\n",
      "auROC: 0.6505568944826288\n"
     ]
    }
   ],
   "source": [
    "from pyspark.ml.classification import RandomForestClassifier\n",
    "from pyspark.ml.evaluation import BinaryClassificationEvaluator\n",
    "from pyspark.ml.evaluation import MulticlassClassificationEvaluator\n",
    "\n",
    "rf = RandomForestClassifier()\n",
    "rfModel = rf.fit(training)\n",
    "\n",
    "predictions = rfModel.transform(test).select(\"prediction\", \"label\", \"features\")\n",
    "predictions.show(5)\n",
    "\n",
    "accuracy = MulticlassClassificationEvaluator(metricName=\"accuracy\").evaluate(predictions)\n",
    "falsePositiveRate = MulticlassClassificationEvaluator(metricName=\"weightedTruePositiveRate\").evaluate(predictions)\n",
    "truePositiveRate = MulticlassClassificationEvaluator(metricName=\"weightedFalsePositiveRate\").evaluate(predictions)\n",
    "fMeasure = MulticlassClassificationEvaluator(metricName=\"weightedFMeasure\").evaluate(predictions) # \n",
    "precision = MulticlassClassificationEvaluator(metricName=\"weightedPrecision\").evaluate(predictions)\n",
    "recall = MulticlassClassificationEvaluator(metricName=\"weightedRecall\").evaluate(predictions)\n",
    "auROC = BinaryClassificationEvaluator(rawPredictionCol='prediction').evaluate(predictions)\n",
    "\n",
    "print(\"Accuracy: %s\\nFPR: %s\\nTPR: %s\\nF-measure: %s\\nPrecision: %s\\nRecall: %s\\nauROC: %s\"\n",
    "      % (accuracy, falsePositiveRate, truePositiveRate, fMeasure, precision, recall, auROC))"
   ]
  },
  {
   "cell_type": "code",
   "execution_count": 108,
   "metadata": {},
   "outputs": [],
   "source": [
    "# Logistic Regression:\n",
    "#     Accuracy: 0.8108500747135978  (close to winner)\n",
    "#     FPR: 0.6026546167989388       (winner)\n",
    "#     TPR: 0.8108500747135978       (winner)\n",
    "#     F-measure: 0.7708984162649318 (close to winner)\n",
    "#     Precision: 0.7963149441774864 (close to winner)\n",
    "#     Recall: 0.8108500747135978    (close to winner)\n",
    "#     auROC: 0.7210958314838776     (winner)\n",
    "\n",
    "# Decision Tree:\n",
    "#     Accuracy: 0.8226134055517942  (winner)\n",
    "#     FPR: 0.8226134055517942       \n",
    "#     TPR: 0.5014725735656529\n",
    "#     F-measure: 0.8010458822761062 (winner)\n",
    "#     Precision: 0.8072160610154474\n",
    "#     Recall: 0.8226134055517942\n",
    "#     auROC: 0.6605704159930705\n",
    "\n",
    "# Random Forest:\n",
    "#     Accuracy: 0.8209207853757616\n",
    "#     FPR: 0.8209207853757617\n",
    "#     TPR: 0.5198069964105043\n",
    "#     F-measure: 0.7962858970701344\n",
    "#     Precision: 0.8056767297674514\n",
    "#     Recall: 0.8209207853757617\n",
    "#     auROC: 0.6505568944826288"
   ]
  },
  {
   "cell_type": "markdown",
   "metadata": {},
   "source": [
    "### Compare the models\n",
    "##### Defend your choice of best model (e.g., what are the strength and weaknesses of each of these models?).\n"
   ]
  },
  {
   "cell_type": "markdown",
   "metadata": {},
   "source": [
    "From the metrics above, we notice that Logistic Regression performs the best between the three models.\n",
    "\n",
    "One considerable difference between LR and the other 2 models is FPR and TPR. \n",
    "    - FPR for LR (0.60) is much smaller than the other 2 models (~ 0.82).\n",
    "    - TPR for LR (0.81) is much higher than the other 2 models (~ 0.50).\n",
    "\n",
    "- Having high FPR means that the model will have a lot of False Positives which is not good for the model.\n",
    "\n",
    "- Having low TPR means that the model will have few True Positives which also not good for the model.\n",
    "\n",
    "On the other hand, all other metrics are either the highest or very close to the highest.\n",
    "\n",
    "Thus, Logistic Regression is the best from these results."
   ]
  },
  {
   "cell_type": "markdown",
   "metadata": {},
   "source": [
    "## 4. Possible Improvements\n",
    "\n",
    "###### What more would you do with this data? Anything to help you devise a better solution?\n"
   ]
  },
  {
   "cell_type": "markdown",
   "metadata": {},
   "source": [
    "Possible improvements are:\n",
    "\n",
    "- There is a high correlation between the columns \"Among history of past payments\" (X6 - X11) and \"bill statements\" (X12-X17), thus one possible solution is to drop some of these columns that cause correlation, since one might be a linear combination of other columns which could result in the model overfitting.\n",
    "\n",
    "\n",
    "- Cross validation could be employed and hyper parameter search like was done in section 6 with the previous dataset"
   ]
  },
  {
   "cell_type": "code",
   "execution_count": null,
   "metadata": {},
   "outputs": [],
   "source": []
  }
 ],
 "metadata": {
  "kernelspec": {
   "display_name": "pyspark",
   "language": "python",
   "name": "pyspark"
  },
  "language_info": {
   "codemirror_mode": {
    "name": "ipython",
    "version": 3
   },
   "file_extension": ".py",
   "mimetype": "text/x-python",
   "name": "python",
   "nbconvert_exporter": "python",
   "pygments_lexer": "ipython3",
   "version": "3.7.11"
  }
 },
 "nbformat": 4,
 "nbformat_minor": 2
}
